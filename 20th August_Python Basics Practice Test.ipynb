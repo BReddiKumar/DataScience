{
 "cells": [
  {
   "cell_type": "code",
   "execution_count": 2,
   "id": "51ec8e27-11f5-436b-9faf-358e7c0c519b",
   "metadata": {},
   "outputs": [],
   "source": [
    "# TOPIC: String Based Assignment Problem\n",
    "#1.Write a program to reverse a string.\n",
    "str1 = 'Reddi Kumar'"
   ]
  },
  {
   "cell_type": "code",
   "execution_count": 6,
   "id": "483389e8-ccaa-4b51-b5ba-5ffa8d7d31e5",
   "metadata": {},
   "outputs": [
    {
     "name": "stdout",
     "output_type": "stream",
     "text": [
      "Reversed string is  ramuK iddeR\n"
     ]
    }
   ],
   "source": [
    "rev_str = str1[::-1]\n",
    "print('Reversed string is ' , rev_str)"
   ]
  },
  {
   "cell_type": "code",
   "execution_count": 13,
   "id": "60ff4132-c12a-42e7-abba-72c413279103",
   "metadata": {},
   "outputs": [
    {
     "name": "stdin",
     "output_type": "stream",
     "text": [
      "Please enter a string to check palindrome or not ROTATOR\n"
     ]
    },
    {
     "name": "stdout",
     "output_type": "stream",
     "text": [
      "Given string  ROTATOR is palindrome\n"
     ]
    }
   ],
   "source": [
    "#2. Check if a string is a palindrome.\n",
    "str2 = input('Please enter a string to check palindrome or not')\n",
    "\n",
    "rev_str2 = str2[::-1]\n",
    "if str2 == rev_str2:\n",
    "    print(f\"Given string  {rev_str2} is palindrome\")\n",
    "else:\n",
    "    print(f\"Given string  {str2} is not palindrome\")"
   ]
  },
  {
   "cell_type": "code",
   "execution_count": 17,
   "id": "3858d0aa-24ce-431d-bafe-6e6630d268d2",
   "metadata": {},
   "outputs": [
    {
     "name": "stdin",
     "output_type": "stream",
     "text": [
      "enter a string to convert to upper case: reddi kumar\n"
     ]
    },
    {
     "name": "stdout",
     "output_type": "stream",
     "text": [
      "Converted string is REDDI KUMAR\n"
     ]
    }
   ],
   "source": [
    "#3. Convert a string to uppercase.\n",
    "str3 = input('enter a string to convert to upper case:')\n",
    "# By using UPPER method we can convert sting to upper case \n",
    "print(f\"Converted string is {str3.upper()}\")"
   ]
  },
  {
   "cell_type": "code",
   "execution_count": 21,
   "id": "e1aafb76-bb0e-4750-8fb9-90a5f53d5251",
   "metadata": {},
   "outputs": [
    {
     "name": "stdin",
     "output_type": "stream",
     "text": [
      "enter a string to convert to upper case: REDDI KUMAR\n"
     ]
    },
    {
     "name": "stdout",
     "output_type": "stream",
     "text": [
      "Converted string is reddi kumar\n"
     ]
    }
   ],
   "source": [
    "#4. Convert a string to lowercase.\n",
    "str3 = input('enter a string to convert to upper case:')\n",
    "# By using LOWER method we can convert sting to upper case \n",
    "print(f\"Converted string is {str3.lower()}\")"
   ]
  },
  {
   "cell_type": "code",
   "execution_count": 1,
   "id": "2b192750-49d3-43b8-8d8e-3098767ee37d",
   "metadata": {},
   "outputs": [
    {
     "name": "stdin",
     "output_type": "stream",
     "text": [
      "Enter a sentence: Reddi Kumar Designation is Machine Learning Architech\n"
     ]
    },
    {
     "name": "stdout",
     "output_type": "stream",
     "text": [
      "Toal vowels are : 19\n"
     ]
    }
   ],
   "source": [
    "#5. Count the number of vowels in a string.\n",
    "vowels = 'aeiouAEIOU'\n",
    "sentence = input('Enter a sentence:')\n",
    "# select a values from variables VOWELS and check vowel in sentence and count it\n",
    "count = sum(sentence.count(vowel) for vowel in vowels)\n",
    "print('Toal vowels are :' , count)"
   ]
  },
  {
   "cell_type": "code",
   "execution_count": 9,
   "id": "02bdfbcc-52a0-451e-b630-0b22d5c5a42c",
   "metadata": {},
   "outputs": [
    {
     "name": "stdin",
     "output_type": "stream",
     "text": [
      "Enter a sentence: Reddi Kumar Designation is Machine Learning Architech\n"
     ]
    },
    {
     "name": "stdout",
     "output_type": "stream",
     "text": [
      "Total Consonants in sentence are  : 34\n",
      "Total vowels in sentence are  : 19\n",
      "String length is  53\n",
      "The sum of consonants and vowels are : 53\n"
     ]
    }
   ],
   "source": [
    "#6. Count the number of consonants in a string.\n",
    "v = 0\n",
    "c = 0\n",
    "sentence = input('Enter a sentence:')\n",
    "# select a values from variables VOWELS and check vowel in sentence and count it\n",
    "for i in sentence:\n",
    "    if i in vowels:\n",
    "        v += 1\n",
    "    else:\n",
    "        c += 1\n",
    "        \n",
    "print('Total Consonants in sentence are  :' , c)\n",
    "print('Total vowels in sentence are  :' , v)\n",
    "\n",
    "print('String length is ' ,  len(sentence))\n",
    "str_len = c + v\n",
    "print('The sum of consonants and vowels are :' , str_len)\n",
    "# Hence proved that sum of consonants and sum of vowels are equal to string length\n"
   ]
  },
  {
   "cell_type": "code",
   "execution_count": 13,
   "id": "c8a98b68-8b71-4b8d-9db0-5cb855ba040f",
   "metadata": {},
   "outputs": [
    {
     "name": "stdin",
     "output_type": "stream",
     "text": [
      "Enter a string with white spaces:                     Reddi Kumar Designation is Machine Learning Architech\n"
     ]
    },
    {
     "name": "stdout",
     "output_type": "stream",
     "text": [
      "After removing white spaces from string is : Reddi Kumar Designation is Machine Learning Architech\n"
     ]
    }
   ],
   "source": [
    "# 7. Remove all whitespaces from a string.\n",
    "# By using STRIP method we can remove all white spaces(leading and trialing spaces) from string or sentence \n",
    "str4 = input('Enter a string with white spaces:')\n",
    "print('After removing white spaces from string is :' , str4.strip())"
   ]
  },
  {
   "cell_type": "code",
   "execution_count": 14,
   "id": "b65f3bc4-e263-4f51-bf07-5acaa930af88",
   "metadata": {},
   "outputs": [
    {
     "name": "stdout",
     "output_type": "stream",
     "text": [
      "Length of given string is : 11\n"
     ]
    }
   ],
   "source": [
    "#8. Find the length of a string without using the `len()` function.\n",
    "cnt = 0\n",
    "str5 = 'Reddi Kumar'\n",
    "for i in str5:\n",
    "    cnt += 1\n",
    "print('Length of given string is :' , cnt)"
   ]
  },
  {
   "cell_type": "code",
   "execution_count": 38,
   "id": "532598cb-0eb1-4d35-a45a-e8ab1fd850af",
   "metadata": {},
   "outputs": [
    {
     "name": "stdin",
     "output_type": "stream",
     "text": [
      "Enter word to search in sentence Machine\n"
     ]
    },
    {
     "name": "stdout",
     "output_type": "stream",
     "text": [
      "String found in : Reddi Kumar is Machine Learning Architech\n",
      "String found and Index of given word is : 15\n"
     ]
    }
   ],
   "source": [
    "#9. Check if a string contains a specific word.\n",
    "\n",
    "str6 = 'Reddi Kumar is Machine Learning Architech'\n",
    "s = input('Enter word to search in sentence')\n",
    "# There are two to check word in sting FIND method and using IF ...IN , \n",
    "# Only difference is if we want index of a word we will use FIND method\n",
    "if s in str6:\n",
    "    print('String found in :' , str6)\n",
    "else:\n",
    "    print('String not found')\n",
    "    \n",
    "# Given stri    \n",
    "st_ind = str6.find(s) \n",
    "if st_ind >= 0:\n",
    "    print('String found and Index of given word is :' , st_ind)\n",
    "else:\n",
    "    print('String not found using FIND method')"
   ]
  },
  {
   "cell_type": "code",
   "execution_count": 17,
   "id": "ebafb0f9-3ae3-4254-9adf-6c123335072d",
   "metadata": {},
   "outputs": [
    {
     "name": "stdout",
     "output_type": "stream",
     "text": [
      "Sting before replace : Reddi Kumar Bandaru\n",
      "Sting after replace : Jashwin Bandaru\n"
     ]
    }
   ],
   "source": [
    "#10. Replace a word in a string with another word.\n",
    "# By using REPLACE method we can replace a string\n",
    "str7 = 'Reddi Kumar Bandaru'\n",
    "print('Sting before replace :' , str7)\n",
    "rpl_str = str7.replace(\"Reddi Kumar\",\"Jashwin\")\n",
    "print('Sting after replace :' , rpl_str)"
   ]
  },
  {
   "cell_type": "code",
   "execution_count": 19,
   "id": "e0817e58-877d-4127-8c7e-5a0a33d44c64",
   "metadata": {},
   "outputs": [
    {
     "name": "stdin",
     "output_type": "stream",
     "text": [
      "Enter a sentence : reddi kumar is ram is\n",
      "Enter a word to search : is\n"
     ]
    },
    {
     "name": "stdout",
     "output_type": "stream",
     "text": [
      "Count of give word is: 2\n"
     ]
    }
   ],
   "source": [
    "# 11. Count the occurrences of a word in a string.\n",
    "# By using COUNT function we can get the count of given word\n",
    "str8 = input('Enter a sentence :')\n",
    "word = input('Enter a word to search :')\n",
    "\n",
    "print('Count of give word is:' , str8.count(word))"
   ]
  },
  {
   "cell_type": "code",
   "execution_count": 20,
   "id": "842ce652-778f-4ce9-9226-c44e81e3a797",
   "metadata": {},
   "outputs": [
    {
     "name": "stdin",
     "output_type": "stream",
     "text": [
      "Enter a sentence : Reddi Kumar Bandaru Reddi Kumar Bandaru\n",
      "Enter a word to check first occurance : Kumar\n"
     ]
    },
    {
     "name": "stdout",
     "output_type": "stream",
     "text": [
      "First occurance of word is : 6\n"
     ]
    }
   ],
   "source": [
    "#12. Find the first occurrence of a word in a string.\n",
    "#By using the FIND methods we can get the first occurance(index) of word\n",
    "str8 = input('Enter a sentence :')\n",
    "word = input('Enter a word to check first occurance :')\n",
    "\n",
    "print('First occurance of word is :' , str8.find(word))"
   ]
  },
  {
   "cell_type": "code",
   "execution_count": 22,
   "id": "52b19c12-23d3-40a7-a804-88be1694ee87",
   "metadata": {},
   "outputs": [
    {
     "name": "stdin",
     "output_type": "stream",
     "text": [
      "Enter a sentence : Reddi Kumar Bandaru Reddi Kumar Bandaru\n",
      "Enter a word to check first occurance : Kumar\n"
     ]
    },
    {
     "name": "stdout",
     "output_type": "stream",
     "text": [
      "Last occurance of word is : 26\n"
     ]
    }
   ],
   "source": [
    "# 13. Find the last occurrence of a word in a string.\n",
    "#12. Find the first occurrence of a word in a string.\n",
    "#By using the RFIND methods we can get the first occurance(index) of word\n",
    "str8 = input('Enter a sentence :')\n",
    "word = input('Enter a word to check first occurance :')\n",
    "\n",
    "print('Last occurance of word is :' , str8.rfind(word))"
   ]
  },
  {
   "cell_type": "code",
   "execution_count": 26,
   "id": "49f9671e-fcdc-47e0-bb00-ced210d0e840",
   "metadata": {},
   "outputs": [
    {
     "name": "stdin",
     "output_type": "stream",
     "text": [
      "Enter a sentence : Reddi Kumar Bandaru is Machine Learning Archtech\n"
     ]
    },
    {
     "name": "stdout",
     "output_type": "stream",
     "text": [
      "List created with words is ['Reddi', 'Kumar', 'Bandaru', 'is', 'Machine', 'Learning', 'Archtech']\n"
     ]
    }
   ],
   "source": [
    "# 14. Split a string into a list of words.\n",
    "# By using the SPLIT method we can make a list of words \n",
    "str9 = input('Enter a sentence :')\n",
    "list1 = str9.split(\" \")\n",
    "print('List created with words is' , list1)"
   ]
  },
  {
   "cell_type": "code",
   "execution_count": 29,
   "id": "1130284e-5185-4424-8d66-b861d310de47",
   "metadata": {},
   "outputs": [
    {
     "name": "stdout",
     "output_type": "stream",
     "text": [
      "Joined string is : Reddi Kumar Bandaru is Machine Learning Archtech\n"
     ]
    }
   ],
   "source": [
    "# 15. Join a list of words into a string.\n",
    "# By using JOIN methods we can achieve this \n",
    "# We already having list list1 \n",
    "\n",
    "sent = \" \".join(list1)\n",
    "print('Joined string is :' , sent)"
   ]
  },
  {
   "cell_type": "code",
   "execution_count": 30,
   "id": "a9d17319-2860-4dd7-93c1-f5968028ed74",
   "metadata": {},
   "outputs": [
    {
     "name": "stdout",
     "output_type": "stream",
     "text": [
      "Converted strind is : Reddi_Kumar_Bandaru\n"
     ]
    }
   ],
   "source": [
    "#16. Convert a string where words are separated by spaces to one where words are separated by underscores.\n",
    "# By using the REPLACE method we can \n",
    "str10 = 'Reddi Kumar Bandaru'\n",
    "cnv_str = str10.replace(\" \",\"_\")\n",
    "print('Converted strind is :' , cnv_str)"
   ]
  },
  {
   "cell_type": "code",
   "execution_count": 43,
   "id": "939dad93-8f05-4959-b805-89f263b97929",
   "metadata": {},
   "outputs": [
    {
     "name": "stdout",
     "output_type": "stream",
     "text": [
      "String started with given word\n"
     ]
    }
   ],
   "source": [
    "#17. Check if a string starts with a specific word or phrase.\n",
    "# By using STARTSWITH method \n",
    "str11 = 'Reddi Kumar Bandaru'\n",
    "ind = str11.startswith('Reddi')\n",
    "if ind is True:\n",
    "    print('String started with given word')\n",
    "else:\n",
    "    print('String not started with given word')"
   ]
  },
  {
   "cell_type": "code",
   "execution_count": 44,
   "id": "d73e61c8-bf0e-4650-85bd-db11dd46ddb0",
   "metadata": {},
   "outputs": [
    {
     "name": "stdout",
     "output_type": "stream",
     "text": [
      "String Ends with given word\n"
     ]
    }
   ],
   "source": [
    "#18. Check if a string ends with a specific word or phrase.\n",
    "# By using ENDSWITH method \n",
    "str11 = 'Reddi Kumar Bandaru'\n",
    "ind = str11.endswith('Bandaru')\n",
    "if ind is True:\n",
    "    print('String Ends with given word')\n",
    "else:\n",
    "    print('String not ends with given word')"
   ]
  },
  {
   "cell_type": "code",
   "execution_count": 47,
   "id": "b1bba293-92b7-4db1-a213-655f65770c72",
   "metadata": {},
   "outputs": [
    {
     "data": {
      "text/plain": [
       "'Reddi Kumar Designation Is Machine Learning Architech'"
      ]
     },
     "execution_count": 47,
     "metadata": {},
     "output_type": "execute_result"
    }
   ],
   "source": [
    "#19. Convert a string to title case (e.g., \"hello world\" to \"Hello World\").\n",
    "# By using TITLE method we can do that, which means first letter in every word should be capital letter\n",
    "str12 = 'reddi kumar designation is machine learning architech'\n",
    "str12.title()"
   ]
  },
  {
   "cell_type": "code",
   "execution_count": 48,
   "id": "623eb0ba-c8e5-4b26-8d5e-ba028180f0e6",
   "metadata": {},
   "outputs": [
    {
     "name": "stdout",
     "output_type": "stream",
     "text": [
      "Longest word in a string is : Designation\n"
     ]
    }
   ],
   "source": [
    "#20. Find the longest word in a string.\n",
    "# By using SPLIT and MAX methods we can achieve this one by passing LEN to parameter KEY\n",
    "str13 = 'Reddi Kumar Designation Is Machine Learning Architech'\n",
    "# By using split we are dividing string into words list\n",
    "word_list = str13.split(\" \")\n",
    "# Then By using the MAX method we can get the word which is having max length\n",
    "logest_word = max(word_list , key = len)\n",
    "print('Longest word in a string is :' , logest_word)"
   ]
  },
  {
   "cell_type": "code",
   "execution_count": 51,
   "id": "1ce7740b-3536-4722-9019-e752ba91ae8c",
   "metadata": {},
   "outputs": [
    {
     "name": "stdout",
     "output_type": "stream",
     "text": [
      "Longest word in a string is : Is\n"
     ]
    }
   ],
   "source": [
    "#21. Find the shortest word in a string.\n",
    "# By using SPLIT and MIN methods we can achieve this one by passing LEN to parameter KEY\n",
    "str13 = 'Reddi Kumar Designation Is Machine Learning Architech'\n",
    "# By using split we are dividing string into words list\n",
    "word_list = str13.split(\" \")\n",
    "# Then By using the MIN method we can get the word which is having shortest length\n",
    "short_word = min(word_list , key = len)\n",
    "print('Longest word in a string is :' , short_word)"
   ]
  },
  {
   "cell_type": "code",
   "execution_count": 2,
   "id": "a137436f-0532-4572-98d3-4ab00d79d111",
   "metadata": {},
   "outputs": [
    {
     "name": "stdout",
     "output_type": "stream",
     "text": [
      "Architech Learning Machine Is Designation Kumar Reddi\n"
     ]
    }
   ],
   "source": [
    "# 22. Reverse the order of words in a string.\n",
    "# By using SPLIT function reverse order\n",
    "# Create a dummy list and append all values then perform JOIN \n",
    "str14 = 'Reddi Kumar Designation Is Machine Learning Architech'\n",
    "s1 = str14.split(\" \")[::-1]\n",
    "word_list2 = []\n",
    "for i in s1:\n",
    "    word_list2.append(i)\n",
    "print(\" \".join(word_list2))"
   ]
  },
  {
   "cell_type": "code",
   "execution_count": 9,
   "id": "8ddd090c-9993-4bbd-b840-df2ba3ce7a56",
   "metadata": {},
   "outputs": [
    {
     "name": "stdout",
     "output_type": "stream",
     "text": [
      "Alpha numeric values are there in given string ReddiKumar1223\n"
     ]
    }
   ],
   "source": [
    "# 23. Check if a string is alphanumeric.\n",
    "# By using ISALNUM method we can find whether string is having alpha numric values or nor\n",
    "#Note: Sting should not have space, If it has white space we will get the wrong output because white space can't be consider decimal or alphabet\n",
    "str15 = 'ReddiKumar1223'\n",
    "ind2 = str15.isalnum()\n",
    "if ind2 is True:\n",
    "    print('Alpha numeric values are there in given string' , str15)\n",
    "else:\n",
    "    print('There is no alpha numeric values in given string')"
   ]
  },
  {
   "cell_type": "code",
   "execution_count": 31,
   "id": "886ad437-2e93-4bea-884f-e4e68ea0bdb6",
   "metadata": {},
   "outputs": [
    {
     "name": "stdout",
     "output_type": "stream",
     "text": [
      "[24061988]\n"
     ]
    }
   ],
   "source": [
    "#24. Extract all digits from a string.\n",
    "# the first example will extract only if number written as separate word\n",
    "str16 = 'Reddi 24061988 Bandaru'\n",
    "res = [int(i) for i in str16.split() if i.isdigit()]\n",
    "print(res)"
   ]
  },
  {
   "cell_type": "code",
   "execution_count": 27,
   "id": "f8e82d6c-9649-4f77-a22b-b825876826dd",
   "metadata": {},
   "outputs": [],
   "source": [
    "str17 = 'Redd12 Ku34mar Band43aru'"
   ]
  },
  {
   "cell_type": "code",
   "execution_count": 30,
   "id": "c9d912b6-bcde-47a9-8d5e-629fa3d1698d",
   "metadata": {},
   "outputs": [
    {
     "name": "stdout",
     "output_type": "stream",
     "text": [
      "123443\n"
     ]
    }
   ],
   "source": [
    "# The below example can extarct all the numeric values and made a single numeric values\n",
    "numr = '0123456789'\n",
    "string = ''\n",
    "for i in str17:\n",
    "    if i in numr:\n",
    "        string = string + i\n",
    "print(int(string))"
   ]
  },
  {
   "cell_type": "code",
   "execution_count": 40,
   "id": "055a872b-a7f2-483a-a2fe-825f83eb6bff",
   "metadata": {},
   "outputs": [
    {
     "name": "stdout",
     "output_type": "stream",
     "text": [
      "ReddKumarBandaru\n"
     ]
    }
   ],
   "source": [
    "# 25. Extract all alphabets from a string.\n",
    "numr = '0123456789'\n",
    "string = ''\n",
    "string1 = ''\n",
    "for i in str17:\n",
    "    if i in numr or i == ' ':\n",
    "        string1 = string1 + i\n",
    "    else:\n",
    "        string = string + i\n",
    "print(string)"
   ]
  },
  {
   "cell_type": "code",
   "execution_count": 45,
   "id": "02d0a89d-bf64-43ca-b39f-31649ecd47bd",
   "metadata": {},
   "outputs": [
    {
     "name": "stdout",
     "output_type": "stream",
     "text": [
      "Number of upper case letters are : 3\n",
      "Number of lower case letters are : 14\n"
     ]
    }
   ],
   "source": [
    "#26. Count the number of uppercase letters in a string.\n",
    "#27. Count the number of lowercase letters in a string.\n",
    "# Question 26 and 27 are implemeted in same loop please have a look\n",
    "str18 = 'Reddi Kumar Bandaru'\n",
    "upper = 0\n",
    "lower = 0\n",
    "for i in str18:\n",
    "    if i.islower():\n",
    "        lower += 1\n",
    "    elif i.isupper():\n",
    "        upper += 1\n",
    "\n",
    "print('Number of upper case letters are :' , upper)\n",
    "print('Number of lower case letters are :' , lower)"
   ]
  },
  {
   "cell_type": "code",
   "execution_count": 48,
   "id": "ebb6041a-bb11-4f0c-8a9c-9eb18b9b0634",
   "metadata": {},
   "outputs": [
    {
     "data": {
      "text/plain": [
       "'rEDD12 kU34MAR bAND43ARU'"
      ]
     },
     "execution_count": 48,
     "metadata": {},
     "output_type": "execute_result"
    }
   ],
   "source": [
    "#28. Swap the case of each character in a string.\n",
    "# By using SWAPCASE method we can cheive this. This will convert small case to upper and upper case to lower case\n",
    "str17.swapcase()"
   ]
  },
  {
   "cell_type": "code",
   "execution_count": 49,
   "id": "ef85965f-c102-4231-9bb1-42e136e65654",
   "metadata": {},
   "outputs": [
    {
     "name": "stdout",
     "output_type": "stream",
     "text": [
      "Reddi  Bandaru\n"
     ]
    }
   ],
   "source": [
    "# 29. Remove a specific word from a string.\n",
    "# By using REPLACE method we can replace a specific word in string\n",
    "str18 = 'Reddi Kumar Bandaru'\n",
    "print(str18.replace('Kumar',''))"
   ]
  },
  {
   "cell_type": "code",
   "execution_count": 1,
   "id": "28cba6ac-6823-4310-b2af-3965b50e8292",
   "metadata": {},
   "outputs": [],
   "source": [
    "# 30. Check if a string is a valid email address.\n",
    "import re\n",
    "\n",
    "regex = re.compile(r'([A-Za-z0-9]+[.-_])*[A-Za-z0-9]+@[A-Za-z0-9-]+(\\.[A-Z|a-z]{2,})+')\n",
    "\n",
    "def isValid(email):\n",
    "    if re.fullmatch(regex, email):\n",
    "      print(\"Valid email\")\n",
    "    else:\n",
    "      print(\"Invalid email\")"
   ]
  },
  {
   "cell_type": "code",
   "execution_count": 2,
   "id": "e0b9caa7-ba2f-4025-8b2a-fc7eda1a91a8",
   "metadata": {},
   "outputs": [
    {
     "name": "stdout",
     "output_type": "stream",
     "text": [
      "Valid email\n",
      "Valid email\n",
      "Invalid email\n",
      "Invalid email\n"
     ]
    }
   ],
   "source": [
    "isValid(\"b.reddikumar@gmail.com\")\n",
    "isValid(\"reddikumar1988@yahoo.co.uk\")\n",
    "isValid(\"reddikumar1988@...uk\")\n",
    "isValid(\"...@domain.us\")"
   ]
  },
  {
   "cell_type": "code",
   "execution_count": 1,
   "id": "bef76cbb-0704-4e4f-b48f-e0dd98ab7ec8",
   "metadata": {},
   "outputs": [
    {
     "name": "stdout",
     "output_type": "stream",
     "text": [
      "Domain name is : gmail.com\n",
      "user name is : reddikumar1988\n"
     ]
    }
   ],
   "source": [
    "# 31. Extract the username from an email address string.\n",
    "# 32. Extract the domain name from an email address string.\n",
    "email = 'reddikumar1988@gmail.com'\n",
    "\n",
    "res_lst = email.split('@')\n",
    "username = res_lst[0]\n",
    "domain = res_lst[1]\n",
    "print('Domain name is :' , domain)\n",
    "print('user name is :' , username)"
   ]
  },
  {
   "cell_type": "code",
   "execution_count": 7,
   "id": "41d89931-68ce-4a75-89e6-0f6b697f5161",
   "metadata": {},
   "outputs": [
    {
     "name": "stdout",
     "output_type": "stream",
     "text": [
      "Reddi Kumar Bandaru\n"
     ]
    }
   ],
   "source": [
    "# 33. Replace multiple spaces in a string with a single space\n",
    "# By using SPLIT method split the string into list and usig JOIN make single string again\n",
    "\n",
    "str20 = 'Reddi    Kumar    Bandaru'\n",
    "split_word = ' '.join(str20.split())\n",
    "print(split_word)"
   ]
  },
  {
   "cell_type": "code",
   "execution_count": 9,
   "id": "a78b02f5-c94c-41e3-801b-5a28518ee81f",
   "metadata": {},
   "outputs": [
    {
     "name": "stdout",
     "output_type": "stream",
     "text": [
      "Collecting validators\n",
      "  Downloading validators-0.22.0-py3-none-any.whl (26 kB)\n",
      "Installing collected packages: validators\n",
      "Successfully installed validators-0.22.0\n",
      "Note: you may need to restart the kernel to use updated packages.\n"
     ]
    }
   ],
   "source": [
    "pip install validators"
   ]
  },
  {
   "cell_type": "code",
   "execution_count": 4,
   "id": "457db36d-4a9f-4d0a-88f4-f459eb44445d",
   "metadata": {},
   "outputs": [
    {
     "name": "stdin",
     "output_type": "stream",
     "text": [
      "Enter URL to check whether it is correct or not : https://www.youtube.com/watch?v=owWrOAHTens\n"
     ]
    },
    {
     "name": "stdout",
     "output_type": "stream",
     "text": [
      "Its a valid URL\n"
     ]
    }
   ],
   "source": [
    "# 34. Check if a string is a valid URL.\n",
    "# we have to import VALIDATORS package, in this we have existing method URL which is having feasibility to test whether it correct or not\n",
    "import validators\n",
    "url = input('Enter URL to check whether it is correct or not :')\n",
    "if not validators.url(url):\n",
    "    print('URL is not valid')\n",
    "else:\n",
    "    print('Its a valid URL')"
   ]
  },
  {
   "cell_type": "code",
   "execution_count": 9,
   "id": "14192b2d-5acb-43a7-9f35-00c42d90e213",
   "metadata": {},
   "outputs": [
    {
     "name": "stdout",
     "output_type": "stream",
     "text": [
      "Protocol is : https\n"
     ]
    }
   ],
   "source": [
    "# 35. Extract the protocol (http or https) from a URL string\n",
    "# we need URLLIB.PARSE lib to get or protocol\n",
    "import urllib.parse\n",
    "url = 'https://stackoverflow.com/questions/9626535/get-protocol-host-name-from-url'\n",
    "protocol = urllib.parse.urlsplit(url)\n",
    "print('Protocol is :', protocol.scheme)"
   ]
  },
  {
   "cell_type": "code",
   "execution_count": 11,
   "id": "a3b80e75-e418-4452-ba40-e4254b9020eb",
   "metadata": {},
   "outputs": [
    {
     "data": {
      "text/plain": [
       "'https:'"
      ]
     },
     "execution_count": 11,
     "metadata": {},
     "output_type": "execute_result"
    }
   ],
   "source": [
    "# Manual way to get the protocol\n",
    "lst4 = url.split('/')\n",
    "lst4[0]"
   ]
  },
  {
   "cell_type": "code",
   "execution_count": 13,
   "id": "6e119b96-595d-4426-9744-cdd16f3f33bb",
   "metadata": {},
   "outputs": [
    {
     "name": "stdout",
     "output_type": "stream",
     "text": [
      "Frequency of each characters are : {'r': 3, 'e': 1, 'd': 3, 'i': 1, ' ': 2, 'k': 1, 'u': 2, 'm': 1, 'a': 3, 'b': 1, 'n': 1}\n"
     ]
    }
   ],
   "source": [
    "# 36. Find the frequency of each character in a string\n",
    "# Creating dictionary, key as character value from string and frequency is value in dictionalry\n",
    "str21 = 'reddi kumar bandaru'\n",
    "char = {}\n",
    "for i in str21:\n",
    "    if i in char:\n",
    "        char[i] += 1\n",
    "    else:\n",
    "        char[i] = 1\n",
    "print('Frequency of each characters are :' , char)\n"
   ]
  },
  {
   "cell_type": "code",
   "execution_count": 15,
   "id": "7f4b64c4-2ba3-48b0-8dc9-536e4dee9cbb",
   "metadata": {},
   "outputs": [
    {
     "name": "stdout",
     "output_type": "stream",
     "text": [
      "Hello world   Welcome  back\n"
     ]
    }
   ],
   "source": [
    "# 37. Remove all punctuation from a string\n",
    "# STRING.PUNCTUATIONS will remove punctuations from string\n",
    "import string\n",
    "str22 = 'Hello world !! , Welcome : back'\n",
    "str22 = str22.translate(str.maketrans('' , '' , string.punctuation))\n",
    "print(str22)"
   ]
  },
  {
   "cell_type": "code",
   "execution_count": 18,
   "id": "45152896-8ccc-4519-b3f9-a1e1c7a1a0f4",
   "metadata": {},
   "outputs": [
    {
     "data": {
      "text/plain": [
       "True"
      ]
     },
     "execution_count": 18,
     "metadata": {},
     "output_type": "execute_result"
    }
   ],
   "source": [
    "# 38. Check if a string contains only digits.\n",
    "# We can chieve this by using method ISDIGIT if it is true that means string is having only digist otherwise not\n",
    "str23 = '123456'\n",
    "str23.isdigit()"
   ]
  },
  {
   "cell_type": "code",
   "execution_count": 21,
   "id": "a29b601b-58c6-428b-a209-21bc03b03806",
   "metadata": {},
   "outputs": [
    {
     "data": {
      "text/plain": [
       "True"
      ]
     },
     "execution_count": 21,
     "metadata": {},
     "output_type": "execute_result"
    }
   ],
   "source": [
    "# 39. Check if a string contains only alphabets\n",
    "# We can chieve this by using method ISALPHA if it is true that means string is having only alphabets otherwise not\n",
    "str24 = 'Reddi'\n",
    "str24.isalpha()"
   ]
  },
  {
   "cell_type": "code",
   "execution_count": 23,
   "id": "7abbf490-fbdd-4ca8-8e79-a31ad524a3e2",
   "metadata": {},
   "outputs": [
    {
     "name": "stdout",
     "output_type": "stream",
     "text": [
      "['r', 'e', 'd', 'd', 'i', 'k', 'u', 'm', 'a', 'r']\n"
     ]
    }
   ],
   "source": [
    "#40. Convert a string to a list of characters.\n",
    "# I am using list() function\n",
    "str25 = 'reddikumar'\n",
    "str_lst = list(str25)\n",
    "print(str_lst)"
   ]
  },
  {
   "cell_type": "code",
   "execution_count": 26,
   "id": "cdc9a492-70f3-4c15-b243-fb195032cd71",
   "metadata": {},
   "outputs": [],
   "source": [
    "#41. Check if two strings are anagrams.\n",
    "def validate_anagaram(s1,s2):\n",
    "    if sorted(s1) == sorted(s2):\n",
    "        print('Given stings ' , s1.upper() , 'and ' , s2.upper() , ' are anagarams')"
   ]
  },
  {
   "cell_type": "code",
   "execution_count": 27,
   "id": "66a29342-ac8c-486d-af7b-2f4d0843ff58",
   "metadata": {},
   "outputs": [
    {
     "name": "stdout",
     "output_type": "stream",
     "text": [
      "Given stings  LISTEN and  SILENT  are anagarams\n"
     ]
    }
   ],
   "source": [
    "s1 = 'listen'\n",
    "s2 = 'silent'\n",
    "validate_anagaram(s1,s2)"
   ]
  },
  {
   "cell_type": "code",
   "execution_count": 45,
   "id": "93b640a2-5ecc-4202-9ef2-17cc48a963d4",
   "metadata": {},
   "outputs": [
    {
     "name": "stdin",
     "output_type": "stream",
     "text": [
      "Enter a string to encode: ReddiKumarBandaru\n"
     ]
    }
   ],
   "source": [
    "#42. Encode a string using a Caesar cipher\n",
    "# Caeser cipher shift three digits\n",
    "encode = 'ABCDEFGHIJKLMNOPQRSTUVWXYZabcdefghijklmnopqrstuvwxyz'\n",
    "decode = 'DEFGHIJKLMNOPQRSTUVWXYZABCdefghijklmnopqrstuvwxyzabc'\n",
    "str26 = input('Enter a string to encode:')"
   ]
  },
  {
   "cell_type": "code",
   "execution_count": 46,
   "id": "f5caf88c-ec9f-432e-9d15-5ce18723ed14",
   "metadata": {},
   "outputs": [],
   "source": [
    "def encode_str(s5):\n",
    "    s6 = ''\n",
    "    for i in s5:\n",
    "        pos = encode.find(i)\n",
    "        s6 += decode[pos]\n",
    "    return s6"
   ]
  },
  {
   "cell_type": "code",
   "execution_count": 47,
   "id": "9d927638-1e25-4f9f-b8f1-30324e9654d0",
   "metadata": {},
   "outputs": [
    {
     "name": "stdout",
     "output_type": "stream",
     "text": [
      "Encoded string is : UhgglNxpduEdqgdux\n"
     ]
    }
   ],
   "source": [
    "s6 = encode_str(str26)\n",
    "print('Encoded string is :' , s6)"
   ]
  },
  {
   "cell_type": "code",
   "execution_count": 49,
   "id": "d4692e4e-cf79-416a-8dff-5038297110e9",
   "metadata": {},
   "outputs": [],
   "source": [
    "# 43. Decode a Caesar cipher encoded string\n",
    "def decode_str(s7):\n",
    "    s8 = ''\n",
    "    for i in s7:\n",
    "        pos = decode.find(i)\n",
    "        s8 += encode[pos]\n",
    "    return s8"
   ]
  },
  {
   "cell_type": "code",
   "execution_count": 50,
   "id": "085471d3-1595-462a-bc81-b8454798367e",
   "metadata": {},
   "outputs": [
    {
     "name": "stdout",
     "output_type": "stream",
     "text": [
      "Decoded value is : ReddiKumarBandaru\n"
     ]
    }
   ],
   "source": [
    "s8 = decode_str(s6)\n",
    "print('Decoded value is :',s8)"
   ]
  },
  {
   "cell_type": "code",
   "execution_count": 59,
   "id": "94b801da-4e8b-4902-89a9-950280a01e17",
   "metadata": {},
   "outputs": [
    {
     "data": {
      "text/plain": [
       "'Reddi'"
      ]
     },
     "execution_count": 59,
     "metadata": {},
     "output_type": "execute_result"
    }
   ],
   "source": [
    "# 44. Find the most frequent word in a string\n",
    "\n",
    "tst_name = 'Reddi kumar bandaru Reddi Jashwin Agasthya Reddi Jashwika'\n",
    "name_lst = tst_name.split(' ')\n",
    "\n",
    "lst_wrd = {}\n",
    "\n",
    "for wrd in name_lst:\n",
    "    if wrd in lst_wrd:\n",
    "        lst_wrd[wrd] += 1\n",
    "    else:\n",
    "        lst_wrd[wrd] = 1\n",
    "    \n",
    "res = max(lst_wrd, key=lst_wrd.get)\n",
    "res"
   ]
  },
  {
   "cell_type": "code",
   "execution_count": 37,
   "id": "0e924192-6e39-483b-bba7-9629e5f6a4a9",
   "metadata": {},
   "outputs": [
    {
     "name": "stdout",
     "output_type": "stream",
     "text": [
      "Given string is : Reddi kumar bandaru Reddi Jashwin Agasthya Reddi Jashwika\n"
     ]
    },
    {
     "data": {
      "text/plain": [
       "{'Agasthya', 'Jashwika', 'Jashwin', 'Reddi', 'bandaru', 'kumar'}"
      ]
     },
     "execution_count": 37,
     "metadata": {},
     "output_type": "execute_result"
    }
   ],
   "source": [
    "# 45. Find all unique words in a string.\n",
    "# By using SET data structure I can able to achieve this because SET is having a property of unique data\n",
    "tst_name = 'Reddi kumar bandaru Reddi Jashwin Agasthya Reddi Jashwika'\n",
    "print('Given string is :' , tst_name)\n",
    "uniq_wrd = set(tst_name.split(' '))\n",
    "uniq_wrd"
   ]
  },
  {
   "cell_type": "code",
   "execution_count": 40,
   "id": "f5a7427d-8bd6-478e-a043-0bda9b7ca0df",
   "metadata": {},
   "outputs": [
    {
     "name": "stdout",
     "output_type": "stream",
     "text": [
      "31\n"
     ]
    }
   ],
   "source": [
    "# 46. Count the number of syllables in a string\n",
    "cnt = 0\n",
    "for i in tst_name:\n",
    "    if i not in ['a' , 'e' ,'i','o','u','A' , 'E' ,'I','O','U',' ']:\n",
    "        cnt += 1\n",
    "print(cnt)    \n"
   ]
  },
  {
   "cell_type": "code",
   "execution_count": 2,
   "id": "8ac0d74e-84ec-4f36-ad26-c7321e9e9b88",
   "metadata": {},
   "outputs": [],
   "source": [
    "# 47. Check if a string contains any special characters\n",
    "#symbols = {'`','~','!','@','#','$','%','^','&','*','(',')','_','-','+','=','{','[','}','}','|','\\',':',';',''\"',''','<',',','>','.','?','/'}"
   ]
  },
  {
   "cell_type": "code",
   "execution_count": 4,
   "id": "206b7f7c-27a9-4d65-a73b-459e5e121a09",
   "metadata": {},
   "outputs": [
    {
     "data": {
      "text/plain": [
       "'Reddi Kumar Data Scientist'"
      ]
     },
     "execution_count": 4,
     "metadata": {},
     "output_type": "execute_result"
    }
   ],
   "source": [
    "# 48. Remove the nth word from a string.\n",
    "str_w = 'Reddi Kumar Bandaru Data Scientist'\n",
    "lst_w = str_w.split()\n",
    "lst_w.remove('Bandaru')\n",
    "str_w2 = ' '.join(lst_w)\n",
    "str_w2"
   ]
  },
  {
   "cell_type": "code",
   "execution_count": 6,
   "id": "3bce8789-a9c7-4148-bd13-131a0a40a69a",
   "metadata": {},
   "outputs": [
    {
     "name": "stdout",
     "output_type": "stream",
     "text": [
      "Reddi Kumar Data Scientist\n",
      "['Reddi', 'Kumar', 'Data', 'Scientist']\n",
      "Inserted string is :  Reddi Kumar Bandaru Data Scientist\n"
     ]
    }
   ],
   "source": [
    "# 49. Insert a word at the nth position in a string.\n",
    "print(str_w2 )\n",
    "lst_w1 = str_w2.split()\n",
    "print(lst_w1)\n",
    "# Insert into list in 3rd position \n",
    "lst_w1.insert(2,'Bandaru')\n",
    "str_w3 = ' '.join(lst_w1)\n",
    "print('Inserted string is : ', str_w3)"
   ]
  },
  {
   "cell_type": "code",
   "execution_count": 35,
   "id": "ccbdb622-c0b8-4c38-b853-aa5cc14a966a",
   "metadata": {},
   "outputs": [
    {
     "name": "stdout",
     "output_type": "stream",
     "text": [
      "['name,subject,marks\\n', 'Reddi,maths,50\\n', 'Kumar,science,60\\n', 'Bandaru,social,70']\n",
      "[['name,subject,marks'], ['Reddi,maths,50'], ['Kumar,science,60'], ['Bandaru,social,70']]\n"
     ]
    }
   ],
   "source": [
    "# 50. Convert a CSV string to a list of lists.\n",
    "l4 = []\n",
    "file1 = open('data.csv', 'r')\n",
    "Lines = file1.readlines()\n",
    "print(Lines)\n",
    "type(Lines)\n",
    "for i in Lines:\n",
    "    ls4 = i.split()\n",
    "    l4.append(ls4)\n",
    "print(l4)"
   ]
  },
  {
   "cell_type": "markdown",
   "id": "bc32b8b7-3f57-49b1-a1f4-7ba63eac45e9",
   "metadata": {},
   "source": [
    "## List Based Practice Problem"
   ]
  },
  {
   "cell_type": "code",
   "execution_count": 6,
   "id": "e7377591-0313-4cc1-958e-84f6083ea69c",
   "metadata": {},
   "outputs": [
    {
     "name": "stdout",
     "output_type": "stream",
     "text": [
      "<class 'list'>\n",
      "[1, 2, 3, 4, 5, 6, 7, 8, 9]\n"
     ]
    }
   ],
   "source": [
    "# 1. Create a list with integers from 1 to 10\n",
    "num1 = range(1,10)\n",
    "list1 = list(num1)\n",
    "print(type(list1))\n",
    "print(list1)"
   ]
  },
  {
   "cell_type": "code",
   "execution_count": 10,
   "id": "24159a41-4733-48f6-923c-0a6de51092b8",
   "metadata": {},
   "outputs": [
    {
     "name": "stdout",
     "output_type": "stream",
     "text": [
      "Length of the list list1 : 11\n"
     ]
    }
   ],
   "source": [
    "# 2. Find the length of a list without using the `len()` function\n",
    "\n",
    "nlen = 0\n",
    "for x in list1:\n",
    "    nlen += 1\n",
    "print('Length of the list list1 :' , nlen )"
   ]
  },
  {
   "cell_type": "code",
   "execution_count": 11,
   "id": "7a1a1db1-6e81-465f-bb65-5267fc0e020b",
   "metadata": {},
   "outputs": [
    {
     "name": "stdout",
     "output_type": "stream",
     "text": [
      "[1, 2, 3, 13, 4, 5, 6, 7, 8, 9, 10, 10]\n"
     ]
    }
   ],
   "source": [
    "# 3. Append an element to the end of a list\n",
    "# By using APPEND method we can add element in last position\n",
    "list1.append(10)\n",
    "print(list1)"
   ]
  },
  {
   "cell_type": "code",
   "execution_count": 14,
   "id": "7ccf7d0b-aaaf-4187-a756-2b527290c510",
   "metadata": {},
   "outputs": [
    {
     "name": "stdout",
     "output_type": "stream",
     "text": [
      "[1, 2, 3, 13, 13, 4, 5, 6, 7, 8, 9, 10, 10]\n"
     ]
    }
   ],
   "source": [
    "# 4. Insert an element at a specific index in a list\n",
    "# By using INSERT method we can add element in specific position\n",
    "list1.insert(3,13)\n",
    "print(list1)"
   ]
  },
  {
   "cell_type": "code",
   "execution_count": 16,
   "id": "211c9519-c15b-4436-ab53-518a213861a1",
   "metadata": {},
   "outputs": [
    {
     "name": "stdout",
     "output_type": "stream",
     "text": [
      "[1, 2, 3, 4, 5, 6, 7, 8, 9, 10, 10]\n"
     ]
    }
   ],
   "source": [
    "# 5. Remove an element from a list by its value\n",
    "# By using REMOVE method we can remove element from list based value as input\n",
    "list1.remove(13)\n",
    "print(list1)"
   ]
  },
  {
   "cell_type": "code",
   "execution_count": 17,
   "id": "0bee8538-df30-45c5-9bed-1247e2fc3f15",
   "metadata": {},
   "outputs": [
    {
     "name": "stdout",
     "output_type": "stream",
     "text": [
      "[1, 2, 4, 5, 6, 7, 8, 9, 10, 10]\n"
     ]
    }
   ],
   "source": [
    "# 6. Remove an element from a list by its index\n",
    "# In below example value 3 is in 2nd position so using POP method, by default it will delete last value \n",
    "list1.pop(2)\n",
    "print(list1)"
   ]
  },
  {
   "cell_type": "code",
   "execution_count": 21,
   "id": "ce27ee68-5cd3-4799-ba3c-2ec413b3b4dd",
   "metadata": {},
   "outputs": [
    {
     "name": "stdout",
     "output_type": "stream",
     "text": [
      "0\n"
     ]
    }
   ],
   "source": [
    "# 7. Check if an element exists in a list\n",
    "# By using COUNT method we can achieve this, if returns 0 then value not found\n",
    "print(list1.count(3))"
   ]
  },
  {
   "cell_type": "code",
   "execution_count": 39,
   "id": "20c1314c-608f-4b76-a719-af07808b8e61",
   "metadata": {},
   "outputs": [
    {
     "name": "stdout",
     "output_type": "stream",
     "text": [
      "3\n"
     ]
    }
   ],
   "source": [
    "# 8. Find the index of the first occurrence of an element in a list\n",
    "# By using the INDEX we can achieve this\n",
    "list2 = [1,2,3,4,5,6,7,4,5,6,4,5,6]\n",
    "print(list2.index(4))"
   ]
  },
  {
   "cell_type": "code",
   "execution_count": 40,
   "id": "99aecb11-b98e-4ea2-847c-3d392c6ac33b",
   "metadata": {},
   "outputs": [
    {
     "name": "stdout",
     "output_type": "stream",
     "text": [
      "3\n"
     ]
    }
   ],
   "source": [
    "# 9. Count the occurrences of an element in a list\n",
    "# By using COUNT method we can use \n",
    "print(list2.count(4))"
   ]
  },
  {
   "cell_type": "code",
   "execution_count": 41,
   "id": "8a907021-786b-4cf5-9a7e-18b984ace641",
   "metadata": {},
   "outputs": [
    {
     "name": "stdout",
     "output_type": "stream",
     "text": [
      "Print the list of current order : [1, 2, 3, 4, 5, 6, 7, 4, 5, 6, 4, 5, 6]\n"
     ]
    }
   ],
   "source": [
    "# 10. Reverse the order of elements in a list\n",
    "print('Print the list of current order :' , list2)\n",
    "list2.reverse()"
   ]
  },
  {
   "cell_type": "code",
   "execution_count": 43,
   "id": "755a23a7-05ea-4847-b1c2-0094e470a30a",
   "metadata": {},
   "outputs": [],
   "source": [
    "list2.reverse()"
   ]
  },
  {
   "cell_type": "code",
   "execution_count": 45,
   "id": "019d3a02-db24-4466-94c1-3df6c34f51bb",
   "metadata": {},
   "outputs": [
    {
     "data": {
      "text/plain": [
       "[6, 5, 4, 6, 5, 4, 7, 6, 5, 4, 3, 2, 1]"
      ]
     },
     "execution_count": 45,
     "metadata": {},
     "output_type": "execute_result"
    }
   ],
   "source": [
    "list2"
   ]
  },
  {
   "cell_type": "code",
   "execution_count": 48,
   "id": "973533df-5d4e-437d-8419-591d6a78278a",
   "metadata": {},
   "outputs": [
    {
     "name": "stdout",
     "output_type": "stream",
     "text": [
      "[45, 24, 60, 22, 55, 35, 50, 70]\n"
     ]
    }
   ],
   "source": [
    "# 11. Sort a list in ascending order\n",
    "# SORT method we can sory \n",
    "list3 = [45,24,60,22,55,35,50,70]\n",
    "print(list3)"
   ]
  },
  {
   "cell_type": "code",
   "execution_count": 50,
   "id": "5b71be52-e0de-43f0-80a5-549d3a1f07c8",
   "metadata": {},
   "outputs": [],
   "source": [
    "list3.sort()"
   ]
  },
  {
   "cell_type": "code",
   "execution_count": 51,
   "id": "02e44fe0-c5dc-452e-b7a5-966d193fdd81",
   "metadata": {},
   "outputs": [
    {
     "data": {
      "text/plain": [
       "[22, 24, 35, 45, 50, 55, 60, 70]"
      ]
     },
     "execution_count": 51,
     "metadata": {},
     "output_type": "execute_result"
    }
   ],
   "source": [
    "list3"
   ]
  },
  {
   "cell_type": "code",
   "execution_count": 57,
   "id": "af71ad0f-8a1a-404d-a2fe-2817a6deadf6",
   "metadata": {},
   "outputs": [],
   "source": [
    "# 12. Sort a list in descending order\n",
    "# By using SORT and function reverse = True will give reverse order\n",
    "list4 = [45,24,60,22,55,35,50,70]\n",
    "list4.sort(key=None , reverse= True)"
   ]
  },
  {
   "cell_type": "code",
   "execution_count": 58,
   "id": "c7a4664c-49f3-474c-8ea3-b7df55a9b8b7",
   "metadata": {},
   "outputs": [
    {
     "data": {
      "text/plain": [
       "[70, 60, 55, 50, 45, 35, 24, 22]"
      ]
     },
     "execution_count": 58,
     "metadata": {},
     "output_type": "execute_result"
    }
   ],
   "source": [
    "list4"
   ]
  },
  {
   "cell_type": "code",
   "execution_count": 60,
   "id": "c8405d16-637b-4591-abf6-2a3003afa411",
   "metadata": {},
   "outputs": [
    {
     "data": {
      "text/plain": [
       "[0, 2, 4, 6, 8, 10, 12, 14, 16, 18]"
      ]
     },
     "execution_count": 60,
     "metadata": {},
     "output_type": "execute_result"
    }
   ],
   "source": [
    "# 13. Create a list of even numbers from 1 to 20\n",
    "# by using range and for keywords \n",
    "even_number = [ x for x in range(20) if (x%2 == 0)]\n",
    "even_number"
   ]
  },
  {
   "cell_type": "code",
   "execution_count": 61,
   "id": "03ebf859-6a57-4b7f-94fb-7dcc764a1c94",
   "metadata": {},
   "outputs": [
    {
     "data": {
      "text/plain": [
       "[1, 3, 5, 7, 9, 11, 13, 15, 17, 19]"
      ]
     },
     "execution_count": 61,
     "metadata": {},
     "output_type": "execute_result"
    }
   ],
   "source": [
    "# 14. Create a list of odd numbers from 1 to 20\n",
    "# by using range and for keywords \n",
    "odd_number = [ x for x in range(20) if (x%2 != 0)]\n",
    "odd_number"
   ]
  },
  {
   "cell_type": "code",
   "execution_count": 64,
   "id": "3d6f0053-24f0-46a8-b89a-18637bfe8877",
   "metadata": {},
   "outputs": [
    {
     "data": {
      "text/plain": [
       "361"
      ]
     },
     "execution_count": 64,
     "metadata": {},
     "output_type": "execute_result"
    }
   ],
   "source": [
    "# 15. Find the sum of all elements in a list\n",
    "sum(list4)"
   ]
  },
  {
   "cell_type": "code",
   "execution_count": 65,
   "id": "231732e0-65fa-4b71-b01a-a38a04dad732",
   "metadata": {},
   "outputs": [
    {
     "data": {
      "text/plain": [
       "361"
      ]
     },
     "execution_count": 65,
     "metadata": {},
     "output_type": "execute_result"
    }
   ],
   "source": [
    "sum_of_values = sum( x for x in list4)\n",
    "sum_of_values"
   ]
  },
  {
   "cell_type": "code",
   "execution_count": 66,
   "id": "2459b5b4-163a-49e1-a642-ffa5587cbc7b",
   "metadata": {},
   "outputs": [
    {
     "data": {
      "text/plain": [
       "70"
      ]
     },
     "execution_count": 66,
     "metadata": {},
     "output_type": "execute_result"
    }
   ],
   "source": [
    "# 16. Find the maximum value in a list\n",
    "max(list4)"
   ]
  },
  {
   "cell_type": "code",
   "execution_count": 67,
   "id": "ea6b766d-a69a-4cc7-9d3e-f4111e19a82c",
   "metadata": {},
   "outputs": [
    {
     "data": {
      "text/plain": [
       "22"
      ]
     },
     "execution_count": 67,
     "metadata": {},
     "output_type": "execute_result"
    }
   ],
   "source": [
    "# 17. Find the minimum value in a list.\n",
    "min(list4)"
   ]
  },
  {
   "cell_type": "code",
   "execution_count": 1,
   "id": "a20cb30a-9178-42bd-a1dd-dc7ef5b0714b",
   "metadata": {},
   "outputs": [
    {
     "name": "stdout",
     "output_type": "stream",
     "text": [
      "[1, 4, 9, 16, 25, 36, 49, 64, 81, 100]\n"
     ]
    }
   ],
   "source": [
    "# 18. Create a list of squares of numbers from 1 to 10\n",
    "squares = [x**2 for x in range(1,11)]\n",
    "print(squares)"
   ]
  },
  {
   "cell_type": "code",
   "execution_count": 5,
   "id": "e279a38f-d593-4da7-98c4-5ad2706bfb48",
   "metadata": {},
   "outputs": [],
   "source": [
    "# 19. Create a list of random numbers\n",
    "# To generate random number need to import RANDOM class\n",
    "import random"
   ]
  },
  {
   "cell_type": "code",
   "execution_count": 6,
   "id": "a5730f70-8a74-483f-9112-07b3c9985e30",
   "metadata": {},
   "outputs": [
    {
     "name": "stdout",
     "output_type": "stream",
     "text": [
      "[76, 83, 66, 88, 21, 4, 51, 14, 59, 28]\n"
     ]
    }
   ],
   "source": [
    "# 19. Create a list of random numbers\n",
    "rand_list  = []\n",
    "for i in range(1,11):\n",
    "    rand_list.append(random.randint(1,100))\n",
    "print(rand_list)"
   ]
  },
  {
   "cell_type": "code",
   "execution_count": 7,
   "id": "88bf075a-fd4b-46cb-83bd-5d7e39341c7a",
   "metadata": {},
   "outputs": [
    {
     "name": "stdout",
     "output_type": "stream",
     "text": [
      "[1, 3, 4, 5, 6, 7, 9]\n"
     ]
    }
   ],
   "source": [
    "# 20. Remove duplicates from a list\n",
    "# I am using SET to avoid duplicates because SET will not accept duplicates\n",
    "list5 = [1,4,5,7,4,5,6,7,9,3,5]\n",
    "rmv_dup_list = list(set(list5))\n",
    "print(rmv_dup_list)"
   ]
  },
  {
   "cell_type": "code",
   "execution_count": 9,
   "id": "faf4b3a3-2d22-40d9-ab15-70c30b409e0e",
   "metadata": {},
   "outputs": [
    {
     "name": "stdout",
     "output_type": "stream",
     "text": [
      "[4, 5, 6]\n"
     ]
    }
   ],
   "source": [
    "# 21. Find the common elements between two lists\n",
    "\n",
    "def commonelem(a,b):\n",
    "    a_set = set(a) \n",
    "    b_set = set(b)\n",
    "    res_set = a_set.intersection(b_set)\n",
    "    common_list = list(res_set)\n",
    "    print(common_list)\n",
    "\n",
    "list6 = [1,2,3,4,5,6]\n",
    "list7 = [4,5,6,7,8,9]\n",
    "commonelem(list6,list7)"
   ]
  },
  {
   "cell_type": "code",
   "execution_count": 11,
   "id": "263f9840-95e1-40bb-93d6-811dacd9a88c",
   "metadata": {},
   "outputs": [
    {
     "name": "stdout",
     "output_type": "stream",
     "text": [
      "[1, 2, 3]\n"
     ]
    }
   ],
   "source": [
    "# 22. Find the difference between two lists\n",
    "# SET is having DIFFERENCE method\n",
    "a_set = set(list6)\n",
    "b_set = set(list7)\n",
    "res_set1 = a_set.difference(b_set)\n",
    "diff_list = list(res_set1)\n",
    "print(diff_list)"
   ]
  },
  {
   "cell_type": "code",
   "execution_count": 13,
   "id": "8cd4479d-5619-4f3b-9480-b7985d01c7a4",
   "metadata": {},
   "outputs": [
    {
     "data": {
      "text/plain": [
       "[1, 2, 3, 4, 5, 6, 4, 5, 6, 7, 8, 9]"
      ]
     },
     "execution_count": 13,
     "metadata": {},
     "output_type": "execute_result"
    }
   ],
   "source": [
    "# 23. Merge two lists.\n",
    "\n",
    "list6 + list7"
   ]
  },
  {
   "cell_type": "code",
   "execution_count": 16,
   "id": "c69fe44d-01a6-402f-bb95-fcc52a54e655",
   "metadata": {},
   "outputs": [
    {
     "name": "stdout",
     "output_type": "stream",
     "text": [
      "[2, 4, 6, 8, 10, 12]\n"
     ]
    }
   ],
   "source": [
    "# 24. Multiply all elements in a list by 2\n",
    "\n",
    "mul_list = [x*2 for x in list6]\n",
    "print(mul_list)"
   ]
  },
  {
   "cell_type": "code",
   "execution_count": 17,
   "id": "83c2a5ca-7931-4924-89a7-50109de3f397",
   "metadata": {},
   "outputs": [
    {
     "name": "stdout",
     "output_type": "stream",
     "text": [
      "[2, 4, 6]\n"
     ]
    }
   ],
   "source": [
    "# 25. Filter out all even numbers from a list\n",
    "\n",
    "evenlist = [i for i in list6 if i % 2 == 0]\n",
    "print(evenlist)"
   ]
  },
  {
   "cell_type": "code",
   "execution_count": 26,
   "id": "06fbfc73-3300-4703-a2ae-92e8756f23db",
   "metadata": {},
   "outputs": [
    {
     "name": "stdout",
     "output_type": "stream",
     "text": [
      "[25, 30, 10, 15, 17]\n"
     ]
    }
   ],
   "source": [
    "# 26. Convert a list of strings to a list of integers\n",
    "char_list = [\"25\",\"30\",\"10\",\"15\",\"17\"]\n",
    "num_list = list(map(int ,char_list))\n",
    "print(num_list)"
   ]
  },
  {
   "cell_type": "code",
   "execution_count": 27,
   "id": "cef303b9-8633-49d2-a040-b6999917a244",
   "metadata": {},
   "outputs": [
    {
     "name": "stdout",
     "output_type": "stream",
     "text": [
      "['15', '20', '30', '40', '50', '60', '70', '80', '90']\n"
     ]
    }
   ],
   "source": [
    "# 27. Convert a list of integers to a list of strings.\n",
    "nlist = [15,20,30,40,50,60,70,80,90]\n",
    "#char_tup = tuple(char_list)\n",
    "ch_list = list(map(str ,nlist))\n",
    "print(ch_list)"
   ]
  },
  {
   "cell_type": "code",
   "execution_count": 30,
   "id": "c16027e7-9602-4428-889a-b2ae97535431",
   "metadata": {},
   "outputs": [],
   "source": [
    "# 28. Flatten a nested list.\n",
    "# By using EXTEND method we can achieve this\n",
    "def falltenlist(lst1):\n",
    "    flatten_list = []\n",
    "    for x in lst1:\n",
    "        flatten_list.extend(x)\n",
    "    return flatten_list\n"
   ]
  },
  {
   "cell_type": "code",
   "execution_count": 31,
   "id": "fcbd9dd0-c6b8-481b-b9b3-1d1937f07dba",
   "metadata": {},
   "outputs": [
    {
     "name": "stdout",
     "output_type": "stream",
     "text": [
      "[1, 2, 3, 4, 5, 6, 7, 8, 9]\n"
     ]
    }
   ],
   "source": [
    "nest_list = [[1],[2,3],[4,5,6],[7,8,9]]\n",
    "flattenlist = falltenlist(nest_list)\n",
    "print(flattenlist)"
   ]
  },
  {
   "cell_type": "code",
   "execution_count": 13,
   "id": "3cc9cf94-081b-4182-bf91-78837f929655",
   "metadata": {},
   "outputs": [
    {
     "name": "stdout",
     "output_type": "stream",
     "text": [
      "[0, 1, 2, 3, 5, 8, 13, 21, 34, 55]\n"
     ]
    }
   ],
   "source": [
    "# 29. Create a list of the first 10 Fibonacci numbers\n",
    "fablist = [0]\n",
    "first = 0\n",
    "second = 1\n",
    "\n",
    "cnt = 1\n",
    "\n",
    "while cnt < 10:\n",
    "    fiba = first + second\n",
    "    fablist.append(fiba)\n",
    "    first = second\n",
    "    second = fiba\n",
    "    cnt += 1\n",
    "print(fablist)"
   ]
  },
  {
   "cell_type": "code",
   "execution_count": 26,
   "id": "dee29b6e-8372-4d00-9301-d88be4bd96a2",
   "metadata": {},
   "outputs": [
    {
     "name": "stdout",
     "output_type": "stream",
     "text": [
      "List is not sorted order\n"
     ]
    }
   ],
   "source": [
    "# 30. Check if a list is sorted.\n",
    "list8 = [24,19,23,15,27,45,10,9]\n",
    "list9 = list8.copy()\n",
    "list9.sort()\n",
    "if list8 == list9:\n",
    "    print('List is in sorted order')\n",
    "else:\n",
    "    print('List is not sorted order')\n",
    "    "
   ]
  },
  {
   "cell_type": "code",
   "execution_count": 40,
   "id": "6d817828-dbe4-4a88-a340-30e2591cc928",
   "metadata": {},
   "outputs": [
    {
     "name": "stdin",
     "output_type": "stream",
     "text": [
      "Enter n value to shift : 5\n"
     ]
    },
    {
     "name": "stdout",
     "output_type": "stream",
     "text": [
      "x: 7 n: 5\n",
      "[6, 7, 1, 2, 3, 4, 5]\n"
     ]
    }
   ],
   "source": [
    "# 31. Rotate a list to the left by `n` positions.\n",
    "list10 = [1,2,3,4,5,6,7]\n",
    "x = len(list10)\n",
    "n = int(input('Enter n value to shift :'))\n",
    "print ('x:' , x , 'n:' , n)\n",
    "if x >= n:\n",
    "    temp_list1 = list10[n:]\n",
    "    temp_list2 = list10[:n]\n",
    "    final_list1 = temp_list1 + temp_list2\n",
    "    print(final_list1)\n",
    "else:\n",
    "    print('Entered value is greater than list length')"
   ]
  },
  {
   "cell_type": "code",
   "execution_count": 41,
   "id": "2c2cc3e9-acc8-455b-8629-61cef29700bb",
   "metadata": {},
   "outputs": [
    {
     "name": "stdin",
     "output_type": "stream",
     "text": [
      "Enter n value to shift : 4\n"
     ]
    },
    {
     "name": "stdout",
     "output_type": "stream",
     "text": [
      "x: 7 n: 4\n",
      "[1, 2, 3, 4, 5, 6, 7]\n"
     ]
    }
   ],
   "source": [
    "# 32. Rotate a list to the right by `n` positions.\n",
    "list11 = [1,2,3,4,5,6,7]\n",
    "x1 = len(list11)\n",
    "n1 = int(input('Enter n value to shift :'))\n",
    "print ('x:' , x1 , 'n:' , n1)\n",
    "if x1 >= n1:\n",
    "    temp_list2 = list10[:n]\n",
    "    temp_list1 = list10[n:]\n",
    "    final_list1 = temp_list2 + temp_list1\n",
    "    print(final_list1)\n",
    "else:\n",
    "    print('Entered value is greater than list length')"
   ]
  },
  {
   "cell_type": "code",
   "execution_count": 42,
   "id": "db8d0102-8d0e-4a83-8cc4-a07c75a13de8",
   "metadata": {},
   "outputs": [
    {
     "name": "stdout",
     "output_type": "stream",
     "text": [
      "[2, 3, 5, 7, 11, 13, 17, 19, 23, 29, 31, 37, 41, 43, 47, 53, 59, 61, 67, 71, 73, 79, 83, 89, 97]\n"
     ]
    }
   ],
   "source": [
    "# 33. Create a list of prime numbers up to 50.\n",
    "prime_list = []\n",
    "for n in range(2,101):\n",
    "    prime = True\n",
    "    for i in range(2,n):\n",
    "        if (n%i == 0):\n",
    "            prime = False\n",
    "    if prime:\n",
    "        prime_list.append(n)\n",
    "print(prime_list)"
   ]
  },
  {
   "cell_type": "code",
   "execution_count": 49,
   "id": "6a8cc62c-5970-485a-9cae-04bff52c3215",
   "metadata": {},
   "outputs": [
    {
     "name": "stdout",
     "output_type": "stream",
     "text": [
      "[[1, 2, 3, 4, 5], [], [6, 7, 8, 9, 0]]\n"
     ]
    }
   ],
   "source": [
    "# 34. Split a list into chunks of size `n`.\n",
    "\n",
    "def devidechunk(l , n):\n",
    "    for i in (0 , len(list12) , n):\n",
    "        yield l[i:i+n]\n",
    "    \n",
    "\n",
    "list12 = [1,2,3,4,5,6,7,8,9,0,11,12,13,14,15]\n",
    "n = 5\n",
    "\n",
    "fin_list12 = list(devidechunk(list12 , n))\n",
    "print(fin_list12)"
   ]
  },
  {
   "cell_type": "code",
   "execution_count": 16,
   "id": "0de96ab7-16ea-44df-827a-1fe4b73a3263",
   "metadata": {},
   "outputs": [
    {
     "name": "stdout",
     "output_type": "stream",
     "text": [
      "[12, 21, 35, 37, 40, 44, 49, 50, 66, 77, 88]\n"
     ]
    },
    {
     "data": {
      "text/plain": [
       "77"
      ]
     },
     "execution_count": 16,
     "metadata": {},
     "output_type": "execute_result"
    }
   ],
   "source": [
    "# 35. Find the second largest number in a list.\n",
    "list13 = [12,40,35,50,66,44,77,88,21,49,37]\n",
    "list14 = list13.copy()\n",
    "list14.sort()\n",
    "print(list14)\n",
    "list14[-2]"
   ]
  },
  {
   "cell_type": "code",
   "execution_count": 20,
   "id": "bcd2336d-7fb1-4ce2-bc91-b1ab980d4cb6",
   "metadata": {},
   "outputs": [
    {
     "name": "stdout",
     "output_type": "stream",
     "text": [
      "Squares of all elements in the list is : [1, 4, 9, 16, 25, 36, 49, 64, 81]\n"
     ]
    }
   ],
   "source": [
    "# 36. Replace every element in a list with its square.\n",
    "# This is possible using LIST Comprehension\n",
    "list15 = [1,2,3,4,5,6,7,8,9]\n",
    "square_list = [i*i for i in list15]\n",
    "print('Squares of all elements in the list is :' , square_list)"
   ]
  },
  {
   "cell_type": "code",
   "execution_count": 24,
   "id": "e5e17e26-489c-4d3b-a0e3-b7390b24fac6",
   "metadata": {},
   "outputs": [
    {
     "name": "stdout",
     "output_type": "stream",
     "text": [
      "{0: 'Reddi', 1: 'Kumar', 2: 'Bandaru'}\n"
     ]
    }
   ],
   "source": [
    "# 37. Convert a list to a dictionary where list elements become keys and their indices become values.\n",
    "def list_to_dict(lst):\n",
    "    dict_index_indices = {index: value for index ,value in enumerate(lst)}\n",
    "    return dict_index_indices\n",
    "list16 = ['Reddi','Kumar','Bandaru']\n",
    "dict_index_indices = list_to_dict(list16)\n",
    "print(dict_index_indices)"
   ]
  },
  {
   "cell_type": "code",
   "execution_count": 25,
   "id": "7d499b56-aaf7-4f31-b281-898699f6dc0b",
   "metadata": {},
   "outputs": [
    {
     "name": "stdout",
     "output_type": "stream",
     "text": [
      "['Bandaru', 'Kumar', 'Reddi']\n"
     ]
    }
   ],
   "source": [
    "# 38. Shuffle the elements of a list randomly.\n",
    "import random\n",
    "random.shuffle(list16)\n",
    "print(list16)"
   ]
  },
  {
   "cell_type": "code",
   "execution_count": 32,
   "id": "e7656e71-f0c7-4f69-a202-52ca47079f93",
   "metadata": {},
   "outputs": [
    {
     "name": "stdout",
     "output_type": "stream",
     "text": [
      "[1, 2, 6, 24, 120, 720, 5040, 40320, 362880, 3628800]\n"
     ]
    }
   ],
   "source": [
    "# 39. Create a list of the first 10 factorial numbers.\n",
    "def factorial(lst):\n",
    "    fact_lst = []\n",
    "    for i in lst:\n",
    "        factorial = 1\n",
    "        for i in range(1,i + 1):\n",
    "            factorial = factorial*i\n",
    "        fact_lst.append(factorial)\n",
    "    return fact_lst\n",
    "\n",
    "flist = list(range(1,11))\n",
    "fact_lst = factorial(flist)\n",
    "print(fact_lst)"
   ]
  },
  {
   "cell_type": "code",
   "execution_count": 36,
   "id": "d3e227e9-1eb2-4da9-998c-a3f6aaa69a12",
   "metadata": {},
   "outputs": [
    {
     "name": "stdout",
     "output_type": "stream",
     "text": [
      "Atleast one matched record exists\n"
     ]
    }
   ],
   "source": [
    "# 40. Check if two lists have at least one element in common.\n",
    "list30 = [1,2,3,4]\n",
    "list31 = [3,5,6]\n",
    "\n",
    "result = False \n",
    "for i in list30:\n",
    "    for j in list31:\n",
    "        if i == j:\n",
    "            result = True\n",
    "if result:\n",
    "    print('Atleast one matched record exists')\n",
    "else:\n",
    "    print('No common value found')"
   ]
  },
  {
   "cell_type": "code",
   "execution_count": 42,
   "id": "f89c1f21-d5be-4a62-bbf5-f4e88e7071c7",
   "metadata": {},
   "outputs": [
    {
     "name": "stdout",
     "output_type": "stream",
     "text": [
      "No common elements found\n"
     ]
    }
   ],
   "source": [
    "# By converting LIST to SET and use INTERSECTION method\n",
    "list32 = [1,2,3,4]\n",
    "list33 = [5,6]\n",
    "l_set1 = set(list32)\n",
    "l_set2 = set(list33)\n",
    "\n",
    "if len(l_set1.intersection(l_set2)) > 0:\n",
    "    print('Common elements found')\n",
    "else:\n",
    "    print('No common elements found')"
   ]
  },
  {
   "cell_type": "code",
   "execution_count": 44,
   "id": "e70bfd5b-42a2-4fd7-90f4-b7af5553f140",
   "metadata": {},
   "outputs": [
    {
     "name": "stdout",
     "output_type": "stream",
     "text": [
      "List before cleared : [1, 2, 3, 4, 5, 6]\n",
      "List after cleared : []\n"
     ]
    }
   ],
   "source": [
    "#41. Remove all elements from a list.\n",
    "# By using CLEAR method we can do that\n",
    "list34 = [1,2,3,4,5,6]\n",
    "print('List before cleared :' , list34)\n",
    "list34.clear()\n",
    "print('List after cleared :' , list34)"
   ]
  },
  {
   "cell_type": "code",
   "execution_count": 50,
   "id": "3f8214d2-a133-4143-b437-eb2a1d6c0422",
   "metadata": {},
   "outputs": [
    {
     "name": "stdout",
     "output_type": "stream",
     "text": [
      "List is having negative values L [1, 2, -3, 8, -4]\n",
      "Negative values got changed to 0 [1, 2, 0, 8, 0]\n"
     ]
    }
   ],
   "source": [
    "# 42. Replace negative numbers in a list with 0.\n",
    "list35 = [1,2,-3,8,-4]\n",
    "print('List is having negative values L' , list35)\n",
    "\n",
    "#l1 = [ i for i in list35 if i < 0 return 0 else return i]\n",
    "list36 = [0 if i < 0 else i for i in list35]   \n",
    "print('Negative values got changed to 0',list36)"
   ]
  },
  {
   "cell_type": "code",
   "execution_count": 51,
   "id": "1189af2a-4378-4449-a6bd-6312b38e9eb8",
   "metadata": {},
   "outputs": [
    {
     "data": {
      "text/plain": [
       "['Reddi', 'Kumar', 'Bandaru']"
      ]
     },
     "execution_count": 51,
     "metadata": {},
     "output_type": "execute_result"
    }
   ],
   "source": [
    "# 43. Convert a string into a list of words.\n",
    "string = 'Reddi Kumar Bandaru'\n",
    "list37 = string.split()\n",
    "list37"
   ]
  },
  {
   "cell_type": "code",
   "execution_count": 53,
   "id": "6c76e315-b44a-42dd-ae19-edd8306c0cf7",
   "metadata": {},
   "outputs": [
    {
     "data": {
      "text/plain": [
       "'Reddi Kumar Bandaru'"
      ]
     },
     "execution_count": 53,
     "metadata": {},
     "output_type": "execute_result"
    }
   ],
   "source": [
    "#44. Convert a list of words into a string.\n",
    "strings = ' '.join(list37)\n",
    "strings"
   ]
  },
  {
   "cell_type": "code",
   "execution_count": 56,
   "id": "ccbc5417-248c-4095-9025-79928a971df6",
   "metadata": {},
   "outputs": [
    {
     "name": "stdin",
     "output_type": "stream",
     "text": [
      "Enter power value : 5\n"
     ]
    },
    {
     "name": "stdout",
     "output_type": "stream",
     "text": [
      "[1, 2, 4, 8, 16]\n"
     ]
    }
   ],
   "source": [
    "# 45. Create a list of the first `n` powers of 2.\n",
    "power = int(input('Enter power value :'))\n",
    "two_power = []\n",
    "for i in range(0,power):\n",
    "    two_power.append(2**i) \n",
    "print(two_power)\n",
    "    \n",
    "    "
   ]
  },
  {
   "cell_type": "code",
   "execution_count": 59,
   "id": "aa9e1889-d178-4a83-bb69-5e0e9f697d08",
   "metadata": {},
   "outputs": [
    {
     "name": "stdout",
     "output_type": "stream",
     "text": [
      "Longest string in list of strings is : Agasthya\n"
     ]
    }
   ],
   "source": [
    "# 46. Find the longest string in a list of strings.\n",
    "list_str = ['Reddi','Kumar','Bandaru','Agasthya','Jashwin','Jashwika']\n",
    "long_str = max(list_str, key= len)\n",
    "print('Longest string in list of strings is :',long_str)"
   ]
  },
  {
   "cell_type": "code",
   "execution_count": 60,
   "id": "152a60c1-1904-4326-84d0-8a35df6411e2",
   "metadata": {},
   "outputs": [
    {
     "name": "stdout",
     "output_type": "stream",
     "text": [
      "Shortest string in list of strings is : Reddi\n"
     ]
    }
   ],
   "source": [
    "# 47. Find the shortest string in a list of strings.\n",
    "shrt_str = min(list_str, key= len)\n",
    "print('Shortest string in list of strings is :' , shrt_str)"
   ]
  },
  {
   "cell_type": "code",
   "execution_count": 4,
   "id": "0329d399-e001-4dcd-8847-033c340f944f",
   "metadata": {},
   "outputs": [
    {
     "name": "stdin",
     "output_type": "stream",
     "text": [
      "Enter how many Triangular Number you want : 15\n"
     ]
    },
    {
     "name": "stdout",
     "output_type": "stream",
     "text": [
      "[0, 1, 3, 6, 10, 15, 21, 28, 36, 45, 55, 66, 78, 91, 105]\n"
     ]
    }
   ],
   "source": [
    "# 48. Create a list of the first `n` triangular numbers.\n",
    "in_num = int(input('Enter how many Triangular Number you want :'))\n",
    "tri_num = []\n",
    "for i in range(0,in_num):\n",
    "    tnum = i * (i+1) / 2\n",
    "    tri_num.append(int(tnum))\n",
    "print(tri_num)"
   ]
  },
  {
   "cell_type": "code",
   "execution_count": 14,
   "id": "fb789b50-b256-49a2-bff5-5d5bb10de28f",
   "metadata": {},
   "outputs": [
    {
     "name": "stdout",
     "output_type": "stream",
     "text": [
      "Given list is Sublist\n"
     ]
    }
   ],
   "source": [
    "# 49. Check if a list contains another list as a subsequence.\n",
    "\n",
    "test_list = [1,2,3,4,5,6,7,8,9]\n",
    "sub_list = [4,5,9]\n",
    "if(all(x in test_list for x in sub_list)):\n",
    "    print('Given list is Sublist')\n",
    "else:\n",
    "    print('Given list is not sublist')\n"
   ]
  },
  {
   "cell_type": "code",
   "execution_count": 17,
   "id": "b66a6398-82dc-413d-80f0-1560d357af5e",
   "metadata": {},
   "outputs": [
    {
     "name": "stdout",
     "output_type": "stream",
     "text": [
      "[2, 1, 3, 4, 5]\n"
     ]
    }
   ],
   "source": [
    "# 50. Swap two elements in a list by their indices.\n",
    "list37 = [1,2,3,4,5]\n",
    "\n",
    "\n",
    "list37[0] , list37[1] = list37[1] , list37[0]\n",
    "print(list37)\n"
   ]
  },
  {
   "cell_type": "markdown",
   "id": "07cf286f-ab26-4b78-8c23-dd6006166315",
   "metadata": {},
   "source": [
    "# Tuple Based Practice Problem :"
   ]
  },
  {
   "cell_type": "code",
   "execution_count": 19,
   "id": "364b9a19-cd82-4990-a1c5-946612b1d746",
   "metadata": {},
   "outputs": [
    {
     "data": {
      "text/plain": [
       "tuple"
      ]
     },
     "execution_count": 19,
     "metadata": {},
     "output_type": "execute_result"
    }
   ],
   "source": [
    "# 1. Create a tuple with integers from 1 to 5.\n",
    "tuple1 = (1,2,3,4,5)\n",
    "type(tuple1)"
   ]
  },
  {
   "cell_type": "code",
   "execution_count": 21,
   "id": "7df7ef9b-7b5f-4cc3-8ea6-d12218c39420",
   "metadata": {},
   "outputs": [
    {
     "data": {
      "text/plain": [
       "3"
      ]
     },
     "execution_count": 21,
     "metadata": {},
     "output_type": "execute_result"
    }
   ],
   "source": [
    "# 2. Access the third element of a tuple.\n",
    "tuple1[2]"
   ]
  },
  {
   "cell_type": "code",
   "execution_count": 24,
   "id": "6c61a5da-d656-49d5-b596-2f311d750071",
   "metadata": {},
   "outputs": [
    {
     "name": "stdout",
     "output_type": "stream",
     "text": [
      "Length of tuple is : 5\n"
     ]
    }
   ],
   "source": [
    "# 3. Find the length of a tuple without using the `len()` function.\n",
    "cnt = 0\n",
    "for i in tuple1:\n",
    "    cnt += 1\n",
    "print('Length of tuple is :', cnt)"
   ]
  },
  {
   "cell_type": "code",
   "execution_count": 25,
   "id": "e6b13a91-50ef-4baa-83df-5266ee0acd62",
   "metadata": {},
   "outputs": [
    {
     "data": {
      "text/plain": [
       "3"
      ]
     },
     "execution_count": 25,
     "metadata": {},
     "output_type": "execute_result"
    }
   ],
   "source": [
    "# 4. Count the occurrences of an element in a tuple.\n",
    "tuple2 = (1,2,3,4,5,4,5,4)\n",
    "tuple2.count(4)"
   ]
  },
  {
   "cell_type": "code",
   "execution_count": 27,
   "id": "bae52d76-ca85-4cc6-ad41-d6de480bc6a4",
   "metadata": {},
   "outputs": [
    {
     "name": "stdout",
     "output_type": "stream",
     "text": [
      "First occurance of 4 is : 3\n"
     ]
    }
   ],
   "source": [
    "# 5. Find the index of the first occurrence of an element in a tuple.\n",
    "first_occurance = tuple2.index(4)\n",
    "print('First occurance of 4 is :' , first_occurance)"
   ]
  },
  {
   "cell_type": "code",
   "execution_count": 32,
   "id": "2e7f6592-fb35-48b2-9f4d-c743ff22797e",
   "metadata": {},
   "outputs": [
    {
     "name": "stdout",
     "output_type": "stream",
     "text": [
      "Element found in Tuple\n"
     ]
    }
   ],
   "source": [
    "# 6. Check if an element exists in a tuple.\n",
    "if 4 in tuple2:\n",
    "    print('Element found in Tuple')\n",
    "else:\n",
    "    print('Element not found in Tuple')"
   ]
  },
  {
   "cell_type": "code",
   "execution_count": 36,
   "id": "2c8eaf33-2091-4570-9a93-7b1d978a473a",
   "metadata": {},
   "outputs": [
    {
     "name": "stdout",
     "output_type": "stream",
     "text": [
      "[1, 2, 3, 4, 5, 4, 5, 4]\n",
      "<class 'list'>\n"
     ]
    }
   ],
   "source": [
    "# 7. Convert a tuple to a list.\n",
    "list39 = list(tuple2)\n",
    "print(list39)\n",
    "print(type(list39))"
   ]
  },
  {
   "cell_type": "code",
   "execution_count": 38,
   "id": "a792a6ae-2475-49e0-844a-12a105c11b55",
   "metadata": {},
   "outputs": [
    {
     "name": "stdout",
     "output_type": "stream",
     "text": [
      "(1, 2, 3, 4, 5, 6, 7, 8, 9)\n",
      "<class 'tuple'>\n"
     ]
    }
   ],
   "source": [
    "# 8. Convert a list to a tuple.\n",
    "list40 = [1,2,3,4,5,6,7,8,9]\n",
    "tuple3 = tuple(list40)\n",
    "print(tuple3)\n",
    "print(type(tuple3))"
   ]
  },
  {
   "cell_type": "code",
   "execution_count": 41,
   "id": "3f07b5b8-0e03-4fcc-a923-6493a6f16b11",
   "metadata": {},
   "outputs": [
    {
     "name": "stdout",
     "output_type": "stream",
     "text": [
      "1\n",
      "2\n"
     ]
    }
   ],
   "source": [
    "# 9. Unpack the elements of a tuple into variables.\n",
    "tuple4 = (1,2)\n",
    "x , y = tuple4\n",
    "print(x)\n",
    "print(y)"
   ]
  },
  {
   "cell_type": "code",
   "execution_count": 44,
   "id": "f783b8b6-8d50-4a44-aee3-0a694a7748e6",
   "metadata": {},
   "outputs": [
    {
     "name": "stdout",
     "output_type": "stream",
     "text": [
      "(2, 4, 6, 8, 10)\n"
     ]
    }
   ],
   "source": [
    "# 10. Create a tuple of even numbers from 1 to 10.\n",
    "elist = []\n",
    "for i in range(1,11):\n",
    "    if i%2 == 0:\n",
    "        elist.append(i)\n",
    "tuple5 = tuple(elist)\n",
    "print(tuple5)"
   ]
  },
  {
   "cell_type": "code",
   "execution_count": 45,
   "id": "c2c874ad-7b74-4f5b-a95e-2e564bb3f922",
   "metadata": {},
   "outputs": [
    {
     "name": "stdout",
     "output_type": "stream",
     "text": [
      "(1, 3, 5, 7, 9)\n"
     ]
    }
   ],
   "source": [
    "# 11. Create a tuple of odd numbers from 1 to 10.\n",
    "elist1 = []\n",
    "for i in range(1,11):\n",
    "    if i%2 != 0:\n",
    "        elist1.append(i)\n",
    "tuple6 = tuple(elist1)\n",
    "print(tuple6)"
   ]
  },
  {
   "cell_type": "code",
   "execution_count": 48,
   "id": "1189ca3f-ba0f-4d7e-a3d9-f3523cb916c6",
   "metadata": {},
   "outputs": [
    {
     "name": "stdout",
     "output_type": "stream",
     "text": [
      "(1, 2, 3, 4, 5, 6, 7, 8)\n"
     ]
    }
   ],
   "source": [
    "# 12. Concatenate two tuples.\n",
    "tuple7 = (1,2,3,4) \n",
    "tuple8 = (5,6,7,8)\n",
    "tuple9 = tuple7 + tuple8\n",
    "print(tuple9)"
   ]
  },
  {
   "cell_type": "code",
   "execution_count": 50,
   "id": "9f089e31-fccc-4e3a-9dbd-fe0508e97eab",
   "metadata": {},
   "outputs": [
    {
     "data": {
      "text/plain": [
       "(1, 2, 3, 4, 1, 2, 3, 4, 1, 2, 3, 4)"
      ]
     },
     "execution_count": 50,
     "metadata": {},
     "output_type": "execute_result"
    }
   ],
   "source": [
    "# 13. Repeat a tuple three times.\n",
    "tuple7 * 3"
   ]
  },
  {
   "cell_type": "code",
   "execution_count": 53,
   "id": "4b9279e4-25e2-4a38-8342-28152d98be82",
   "metadata": {},
   "outputs": [
    {
     "name": "stdout",
     "output_type": "stream",
     "text": [
      "False\n",
      "0\n"
     ]
    }
   ],
   "source": [
    "# 14. Check if a tuple is empty.\n",
    "tuple10 = (1,2,3)\n",
    "tuple11 = ()\n",
    "# Check using condition is false tuple is not empty\n",
    "print(tuple10 == ())\n",
    "# using len function 0 the tuple is empty\n",
    "print(len(tuple11))"
   ]
  },
  {
   "cell_type": "code",
   "execution_count": 55,
   "id": "27625339-c9c3-45d7-b76f-a00d6df5b7f0",
   "metadata": {},
   "outputs": [
    {
     "name": "stdout",
     "output_type": "stream",
     "text": [
      "(('Reddi', 'Kumar', 'Bandaru'), ('Maths', 'Physics', 'Chemistry'), (45, 50, 60))\n",
      "<class 'tuple'>\n"
     ]
    }
   ],
   "source": [
    "# 15. Create a nested tuple.\n",
    "tuple12 = (('Reddi','Kumar','Bandaru'),('Maths','Physics','Chemistry'),(45,50,60))\n",
    "print(tuple12)\n",
    "print(type(tuple12))"
   ]
  },
  {
   "cell_type": "code",
   "execution_count": 59,
   "id": "f8076662-01d5-41ab-8b12-1fea2005252b",
   "metadata": {},
   "outputs": [
    {
     "data": {
      "text/plain": [
       "'Reddi'"
      ]
     },
     "execution_count": 59,
     "metadata": {},
     "output_type": "execute_result"
    }
   ],
   "source": [
    "# 16. Access the first element of a nested tuple.\n",
    "tuple12[0][0]"
   ]
  },
  {
   "cell_type": "code",
   "execution_count": 63,
   "id": "b4da7518-db82-44a2-8bec-1532c00411fd",
   "metadata": {},
   "outputs": [
    {
     "name": "stdout",
     "output_type": "stream",
     "text": [
      "(40,)\n",
      "<class 'tuple'>\n"
     ]
    }
   ],
   "source": [
    "# 17. Create a tuple with a single element.\n",
    "tuple13 = (40,)\n",
    "print(tuple13)\n",
    "print(type(tuple13))"
   ]
  },
  {
   "cell_type": "code",
   "execution_count": 65,
   "id": "1074fada-482a-464f-ae06-2bee8c4b4c2a",
   "metadata": {},
   "outputs": [
    {
     "name": "stdout",
     "output_type": "stream",
     "text": [
      "The two tuples are not equal\n"
     ]
    }
   ],
   "source": [
    "# 18. Compare two tuples.\n",
    "tuple14 = (1, 2, 3, 4)\n",
    "tuple15 = (1, 2, 3)\n",
    "\n",
    "if tuple14 == tuple15:\n",
    "    print(\"The two tuples are equal\")\n",
    "else:\n",
    "    print(\"The two tuples are not equal\")"
   ]
  },
  {
   "cell_type": "code",
   "execution_count": 68,
   "id": "9b0409c8-563a-46ae-a492-165d278d05b4",
   "metadata": {},
   "outputs": [
    {
     "name": "stdout",
     "output_type": "stream",
     "text": [
      "(1, 2, 3)\n"
     ]
    }
   ],
   "source": [
    "# 19. Delete a tuple.\n",
    "# Using DEL method we can delete tuple\n",
    "tuple16 = (1,2,3)\n",
    "print(tuple16)"
   ]
  },
  {
   "cell_type": "code",
   "execution_count": 69,
   "id": "2fb99833-be29-4fc5-bfab-31f29d85378f",
   "metadata": {},
   "outputs": [],
   "source": [
    "del tuple16"
   ]
  },
  {
   "cell_type": "code",
   "execution_count": 82,
   "id": "1663eb33-89b2-4ff5-979d-d1e7c1dd2cc4",
   "metadata": {},
   "outputs": [
    {
     "name": "stdout",
     "output_type": "stream",
     "text": [
      "35\n",
      "12\n",
      "(35, 15)\n",
      "(35, 15, 10)\n",
      "(14, 10)\n"
     ]
    }
   ],
   "source": [
    "# 20. Slice a tuple.\n",
    "tuple17 = (25,35,15,10,12,14)\n",
    "print(tuple17[1])\n",
    "print(tuple17[-2])\n",
    "print(tuple17[1:3])\n",
    "print(tuple17[-5:-2])\n",
    "print(tuple17[-1:-5:-2])"
   ]
  },
  {
   "cell_type": "code",
   "execution_count": 84,
   "id": "0af8b24c-43c5-4868-8caf-2c068cfce15a",
   "metadata": {},
   "outputs": [
    {
     "name": "stdout",
     "output_type": "stream",
     "text": [
      "35\n"
     ]
    }
   ],
   "source": [
    "# 21. Find the maximum value in a tuple.\n",
    "value = max(tuple17)\n",
    "print(value)"
   ]
  },
  {
   "cell_type": "code",
   "execution_count": 85,
   "id": "6568d632-334d-4399-87a6-a4f0257d86ed",
   "metadata": {},
   "outputs": [
    {
     "name": "stdout",
     "output_type": "stream",
     "text": [
      "10\n"
     ]
    }
   ],
   "source": [
    "# 22. Find the minimum value in a tuple.\n",
    "value = min(tuple17)\n",
    "print(value)"
   ]
  },
  {
   "cell_type": "code",
   "execution_count": 91,
   "id": "d37da2f4-473c-413c-a4e9-5702352ce0d8",
   "metadata": {},
   "outputs": [
    {
     "name": "stdout",
     "output_type": "stream",
     "text": [
      "('R', 'e', 'd', 'd', 'i', 'K', 'u', 'm', 'a', 'r')\n"
     ]
    }
   ],
   "source": [
    "# 23. Convert a string to a tuple of characters.\n",
    "str1 = 'ReddiKumar'\n",
    "lstr = tuple(str1)\n",
    "print(lstr)"
   ]
  },
  {
   "cell_type": "code",
   "execution_count": 93,
   "id": "a36a7629-3c97-49cb-b8c8-2d1237b22d33",
   "metadata": {},
   "outputs": [
    {
     "data": {
      "text/plain": [
       "'ReddiKumar'"
      ]
     },
     "execution_count": 93,
     "metadata": {},
     "output_type": "execute_result"
    }
   ],
   "source": [
    "# 24. Convert a tuple of characters to a string.\n",
    "str2 = ''.join(lstr)\n",
    "str2"
   ]
  },
  {
   "cell_type": "code",
   "execution_count": 1,
   "id": "fa77e11c-798c-41fe-88ff-d1e8ede5bf6e",
   "metadata": {},
   "outputs": [
    {
     "name": "stdout",
     "output_type": "stream",
     "text": [
      "('reddi', 20, 30.5, 'kumar')\n"
     ]
    }
   ],
   "source": [
    "# 25. Create a tuple from multiple data types.\n",
    "tuple18 = ('reddi',20,30.5,'kumar')\n",
    "print(tuple18)"
   ]
  },
  {
   "cell_type": "code",
   "execution_count": 3,
   "id": "a576530f-18b3-4123-aa2c-0163a86bb344",
   "metadata": {},
   "outputs": [
    {
     "name": "stdout",
     "output_type": "stream",
     "text": [
      "tuple19 and tuple20 tuples are identical\n",
      "tuple21 and tuple20 are not identical\n"
     ]
    }
   ],
   "source": [
    "# 26. Check if two tuples are identical.\n",
    "tuple19 = (1,2,3,4)\n",
    "tuple20 = (1,2,3,4)\n",
    "tuple21 = (1,2,3)\n",
    "\n",
    "if tuple19 == tuple20:\n",
    "    print('tuple19 and tuple20 tuples are identical')\n",
    "else:\n",
    "    print('tuple19 and tuple20 are not identical')\n",
    "\n",
    "if tuple21 == tuple20:\n",
    "    print('tuple21 and tuple20 tuples are identical')\n",
    "else:\n",
    "    print('tuple21 and tuple20 are not identical')"
   ]
  },
  {
   "cell_type": "code",
   "execution_count": 12,
   "id": "b7924882-d830-459a-8308-64f7ce644ba7",
   "metadata": {},
   "outputs": [
    {
     "name": "stdout",
     "output_type": "stream",
     "text": [
      "(1, 2, 3, 4, 5, 6)\n"
     ]
    }
   ],
   "source": [
    "# 27. Sort the elements of a tuple.\n",
    "tuple22 = (3,2,6,5,1,4)\n",
    "lt22 = tuple(sorted(tuple22))\n",
    "print(lt22)"
   ]
  },
  {
   "cell_type": "code",
   "execution_count": 14,
   "id": "4bca275c-fc30-4283-9550-075756a2b3ec",
   "metadata": {},
   "outputs": [
    {
     "name": "stdout",
     "output_type": "stream",
     "text": [
      "(1, 2, 3, 4, 5)\n"
     ]
    }
   ],
   "source": [
    "# 28. Convert a tuple of integers to a tuple of strings.\n",
    "tuple23 = ('1', '2', '3', '4', '5')\n",
    "lt23 = [int(i) for i in tuple23]\n",
    "tuple24 = tuple(lt23)\n",
    "print(tuple24)"
   ]
  },
  {
   "cell_type": "code",
   "execution_count": 15,
   "id": "b4a6e488-c9e1-4a3f-a0cd-85b3425638e4",
   "metadata": {},
   "outputs": [
    {
     "name": "stdout",
     "output_type": "stream",
     "text": [
      "('1', '2', '3', '4', '5')\n"
     ]
    }
   ],
   "source": [
    "# 29. Convert a tuple of strings to a tuple of integers.\n",
    "lt24 = [str(i) for i in tuple24]\n",
    "tuple25 = tuple(lt24)\n",
    "print(tuple25)"
   ]
  },
  {
   "cell_type": "code",
   "execution_count": 17,
   "id": "85b2d9c8-83a5-4942-8185-d53792046dd3",
   "metadata": {},
   "outputs": [
    {
     "data": {
      "text/plain": [
       "(1, 2, 3, 4, 5, 6, 7, 8)"
      ]
     },
     "execution_count": 17,
     "metadata": {},
     "output_type": "execute_result"
    }
   ],
   "source": [
    "# 30. Merge two tuples.\n",
    "tuple26 = (1,2,3,4)\n",
    "tuple27 = (5,6,7,8)\n",
    "tuple26 + tuple27"
   ]
  },
  {
   "cell_type": "code",
   "execution_count": 1,
   "id": "2f6b5be1-7d11-4f8e-b45b-4f519c396ba5",
   "metadata": {},
   "outputs": [],
   "source": [
    "# 31. Flatten a nested tuple.\n"
   ]
  },
  {
   "cell_type": "code",
   "execution_count": 5,
   "id": "8c031001-0688-4e4d-be92-463791328817",
   "metadata": {},
   "outputs": [
    {
     "name": "stdout",
     "output_type": "stream",
     "text": [
      "(2, 3, 5, 7, 11)\n"
     ]
    }
   ],
   "source": [
    "# 32. Create a tuple of the first 5 prime numbers.\n",
    "prime_list = []\n",
    "cnt = 0\n",
    "for n in range(2,101):\n",
    "    prime = True\n",
    "    for i in range(2,n):\n",
    "        if (n%i == 0):\n",
    "            prime = False\n",
    "    if prime:\n",
    "        cnt += 1\n",
    "        if cnt >5:\n",
    "            break\n",
    "        prime_list.append(n)\n",
    "tuple28 = tuple(prime_list)\n",
    "print(tuple28)"
   ]
  },
  {
   "cell_type": "code",
   "execution_count": 4,
   "id": "d5d520e4-30f3-4933-aa10-700250a72001",
   "metadata": {},
   "outputs": [
    {
     "name": "stdout",
     "output_type": "stream",
     "text": [
      "Palidrome\n"
     ]
    }
   ],
   "source": [
    "# 33. Check if a tuple is a palindrome.\n",
    "\n",
    "tuple29 = ('m','a','d','a','m')\n",
    "tuple30 = tuple29[::-1]\n",
    "if tuple29 == tuple30:\n",
    "    print('Palidrome')\n",
    "else:\n",
    "    print('Not Palidrome')"
   ]
  },
  {
   "cell_type": "code",
   "execution_count": 9,
   "id": "dbc92894-03a5-4a0b-b9ad-24b880223c8e",
   "metadata": {},
   "outputs": [
    {
     "name": "stdout",
     "output_type": "stream",
     "text": [
      "(1, 4, 9, 16, 25)\n"
     ]
    }
   ],
   "source": [
    "# 34. Create a tuple of squares of numbers from 1 to 5.\n",
    "list41 = []\n",
    "for i in range(1,6):\n",
    "    list41.append(i*i)\n",
    "tuple31 = tuple(list41)\n",
    "print(tuple31)"
   ]
  },
  {
   "cell_type": "code",
   "execution_count": 12,
   "id": "c9c99b27-7ed9-4825-90e3-93d7d85c1192",
   "metadata": {},
   "outputs": [
    {
     "data": {
      "text/plain": [
       "(2, 4, 6, 8)"
      ]
     },
     "execution_count": 12,
     "metadata": {},
     "output_type": "execute_result"
    }
   ],
   "source": [
    "# 35. Filter out all even numbers from a tuple.\n",
    "tuple32 = (1,2,3,4,5,6,7,8,9)\n",
    "tuple33 = tuple([i for i in tuple32 if i%2 == 0])\n",
    "tuple33"
   ]
  },
  {
   "cell_type": "code",
   "execution_count": 13,
   "id": "20c4e4d2-e9fd-4825-b3ec-23d0efa97d63",
   "metadata": {},
   "outputs": [
    {
     "data": {
      "text/plain": [
       "(2, 4, 6, 8, 10, 12, 14, 16, 18)"
      ]
     },
     "execution_count": 13,
     "metadata": {},
     "output_type": "execute_result"
    }
   ],
   "source": [
    "# 36. Multiply all elements in a tuple by 2.\n",
    "tuple34 = tuple([i*2 for i in tuple32])\n",
    "tuple34"
   ]
  },
  {
   "cell_type": "code",
   "execution_count": 21,
   "id": "1d1fdb6c-9876-4f70-bd63-ab72b6c121a6",
   "metadata": {},
   "outputs": [
    {
     "name": "stdout",
     "output_type": "stream",
     "text": [
      "(95, 8, 47, 46, 70, 95, 8, 89, 18)\n"
     ]
    }
   ],
   "source": [
    "# 37. Create a tuple of random numbers.\n",
    "import random\n",
    "listrand = []\n",
    "for i in range(1,10):\n",
    "    listrand.append(random.randint(1,100))\n",
    "\n",
    "tuple35 = tuple(listrand)\n",
    "print(tuple35)"
   ]
  },
  {
   "cell_type": "code",
   "execution_count": 6,
   "id": "bf877d67-8604-475a-b0ac-f1730258e75c",
   "metadata": {},
   "outputs": [
    {
     "name": "stdout",
     "output_type": "stream",
     "text": [
      "Tuple is not sorted\n",
      "Tuple is sorted\n"
     ]
    }
   ],
   "source": [
    "# 38. Check if a tuple is sorted.\n",
    "def sorting(tu):\n",
    "    for i in range(1, len(tuple36)):\n",
    "        if tu[i] < tu[i-1]:\n",
    "            return False\n",
    "    return True\n",
    "\n",
    "\n",
    "def funccall(tp):\n",
    "    if sorting(tp):\n",
    "        print('Tuple is sorted')\n",
    "    else:\n",
    "        print('Tuple is not sorted')\n",
    "\n",
    "tuple36 = (54,35,66,25,77)\n",
    "funccall(tuple36) \n",
    "tuple37 = (1,2,3,4,5)\n",
    "funccall(tuple37) \n",
    "   "
   ]
  },
  {
   "cell_type": "code",
   "execution_count": 7,
   "id": "a8fa8155-d184-491d-91c8-82d598ef75d2",
   "metadata": {},
   "outputs": [
    {
     "name": "stdin",
     "output_type": "stream",
     "text": [
      "Enter number of places to roll 4\n"
     ]
    },
    {
     "name": "stdout",
     "output_type": "stream",
     "text": [
      "(5, 6, 7)\n",
      "(1, 2, 3, 4)\n",
      "(5, 6, 7, 1, 2, 3, 4)\n"
     ]
    }
   ],
   "source": [
    "# 39. Rotate a tuple to the left by `n` positions.\n",
    "n = int(input('Enter number of places to roll'))\n",
    "tuple38 = (1,2,3,4,5,6,7)\n",
    "tsttup1 = tuple38[n:]\n",
    "tsttup2 = tuple38[:n]\n",
    "print(tsttup1)\n",
    "print(tsttup2)\n",
    "print(tsttup1 + tsttup2)"
   ]
  },
  {
   "cell_type": "code",
   "execution_count": 14,
   "id": "ad7a4cf6-13da-4c98-8360-b265894868c6",
   "metadata": {},
   "outputs": [
    {
     "name": "stdin",
     "output_type": "stream",
     "text": [
      "Enter number of places to roll 4\n"
     ]
    },
    {
     "name": "stdout",
     "output_type": "stream",
     "text": [
      "(4, 5, 6, 7)\n",
      "(1, 2, 3)\n",
      "(4, 5, 6, 7, 1, 2, 3)\n"
     ]
    }
   ],
   "source": [
    "# 40. Rotate a tuple to the right by `n` positions.\n",
    "n = int(input('Enter number of places to roll'))\n",
    "tuple38 = (1,2,3,4,5,6,7)\n",
    "tsttup1 = tuple38[-n:]\n",
    "tsttup2 = tuple38[:-n]\n",
    "print(tsttup1)\n",
    "print(tsttup2)\n",
    "print(tsttup1 + tsttup2)"
   ]
  },
  {
   "cell_type": "code",
   "execution_count": 20,
   "id": "a44425ca-c06e-457c-861e-53b9c1687647",
   "metadata": {},
   "outputs": [
    {
     "name": "stdout",
     "output_type": "stream",
     "text": [
      "(0, 1, 1, 2, 3, 5, 8)\n"
     ]
    }
   ],
   "source": [
    "# 41. Create a tuple of the first 5 Fibonacci numbers.\n",
    "fablist = [0,1]\n",
    "first = 0\n",
    "second = 1\n",
    "\n",
    "cnt = 1\n",
    "\n",
    "while cnt < 6:\n",
    "    fiba = first + second\n",
    "    fablist.append(fiba)\n",
    "    first = second\n",
    "    second = fiba\n",
    "    cnt += 1\n",
    "tup_fib = tuple(fablist)\n",
    "print(tup_fib)"
   ]
  },
  {
   "cell_type": "code",
   "execution_count": 25,
   "id": "d3cb8368-7e04-487f-8892-ab7017b8a88b",
   "metadata": {},
   "outputs": [
    {
     "name": "stdin",
     "output_type": "stream",
     "text": [
      "enter tuple values as input 1,2,3,4,5,6,7,8\n"
     ]
    },
    {
     "name": "stdout",
     "output_type": "stream",
     "text": [
      "('1', '2', '3', '4', '5', '6', '7', '8')\n"
     ]
    }
   ],
   "source": [
    "# 42. Create a tuple from user input.\n",
    "inp_lst = input('enter tuple values as input')\n",
    "tuple40 = tuple(inp_lst.split(','))\n",
    "print(tuple40)"
   ]
  },
  {
   "cell_type": "code",
   "execution_count": 30,
   "id": "0cfd3a2e-bd91-4122-86dd-f06624974092",
   "metadata": {},
   "outputs": [
    {
     "name": "stdout",
     "output_type": "stream",
     "text": [
      "(2, 1, 3, 4, 5, 6)\n"
     ]
    }
   ],
   "source": [
    "# 43. Swap two elements in a tuple.\n",
    "tuple41 = (1,2,3,4,5,6)\n",
    "tup_lst41 = list(tuple41)\n",
    "tup_lst41[0] , tup_lst41[1] = tup_lst41[1] , tup_lst41[0]\n",
    "tuple42 = tuple(tup_lst41)\n",
    "print(tuple42)"
   ]
  },
  {
   "cell_type": "code",
   "execution_count": 34,
   "id": "00da346a-bb73-4fc5-9afa-063619e93937",
   "metadata": {},
   "outputs": [
    {
     "data": {
      "text/plain": [
       "(6, 5, 4, 3, 2, 1)"
      ]
     },
     "execution_count": 34,
     "metadata": {},
     "output_type": "execute_result"
    }
   ],
   "source": [
    "# 44. Reverse the elements of a tuple.\n",
    "tuple43 = (1,2,3,4,5,6)\n",
    "tuple44 = tuple(list(tuple43)[::-1])\n",
    "tuple44"
   ]
  },
  {
   "cell_type": "code",
   "execution_count": 38,
   "id": "ded57b6a-1d86-425a-9866-d7d2a2011e6f",
   "metadata": {},
   "outputs": [
    {
     "name": "stdin",
     "output_type": "stream",
     "text": [
      "Enter how many powers you want 15\n"
     ]
    },
    {
     "data": {
      "text/plain": [
       "(1, 2, 4, 8, 16, 32, 64, 128, 256, 512, 1024, 2048, 4096, 8192, 16384)"
      ]
     },
     "execution_count": 38,
     "metadata": {},
     "output_type": "execute_result"
    }
   ],
   "source": [
    "# 45. Create a tuple of the first `n` powers of 2.\n",
    "n = int(input('Enter how many powers you want'))\n",
    "tuple45 = tuple([2**i for i in range(0,n)])\n",
    "tuple45"
   ]
  },
  {
   "cell_type": "code",
   "execution_count": 43,
   "id": "5be9be16-ab7e-4c61-8642-edc6cd4411b6",
   "metadata": {},
   "outputs": [
    {
     "name": "stdout",
     "output_type": "stream",
     "text": [
      "Longest word in a string is : Jashwika\n"
     ]
    }
   ],
   "source": [
    "# 46. Find the longest string in a tuple of strings.\n",
    "tuple46 = ('Reddi','Kumar','Bandaru','Jashwin','Jashwika')\n",
    "str46 = ' '.join(tuple46)\n",
    "str47 = str46.split(\" \")\n",
    "logest_word = max(str47 , key = len)\n",
    "print('Longest word in a string is :' , logest_word)"
   ]
  },
  {
   "cell_type": "code",
   "execution_count": 45,
   "id": "0a9bb3b8-dc7c-4797-bb1f-f06cbfb171f0",
   "metadata": {},
   "outputs": [
    {
     "name": "stdout",
     "output_type": "stream",
     "text": [
      "Shortest word in a string is : Reddi\n"
     ]
    }
   ],
   "source": [
    "# 47. Find the shortest string in a tuple of strings.\n",
    "tuple46 = ('Reddi','Kumar','Bandaru','Jashwin','Jashwika')\n",
    "str46 = ' '.join(tuple46)\n",
    "str47 = str46.split(\" \")\n",
    "short_word = min(str47 , key = len)\n",
    "print('Shortest word in a string is :' , short_word)"
   ]
  },
  {
   "cell_type": "code",
   "execution_count": 46,
   "id": "5be198e0-418f-4ee1-a3cc-4cb4a1bc6c3e",
   "metadata": {},
   "outputs": [
    {
     "name": "stdin",
     "output_type": "stream",
     "text": [
      "Enter how many Triangular Number you want : 5\n"
     ]
    },
    {
     "name": "stdout",
     "output_type": "stream",
     "text": [
      "(0, 1, 3, 6, 10)\n"
     ]
    }
   ],
   "source": [
    "# 48. Create a tuple of the first `n` triangular numbers.\n",
    "in_num = int(input('Enter how many Triangular Number you want :'))\n",
    "tri_num = []\n",
    "for i in range(0,in_num):\n",
    "    tnum = i * (i+1) / 2\n",
    "    tri_num.append(int(tnum))\n",
    "    \n",
    "tuple47 = tuple(tri_num)\n",
    "print(tuple47)"
   ]
  },
  {
   "cell_type": "code",
   "execution_count": 57,
   "id": "a7737fef-c912-48de-adbf-0666bb740ba7",
   "metadata": {},
   "outputs": [
    {
     "name": "stdout",
     "output_type": "stream",
     "text": [
      "is Sub sequence\n"
     ]
    }
   ],
   "source": [
    "# 49. Check if a tuple contains another tuple as a subsequence.\n",
    "tuple48 = (1,2,3,4,5,6,7)\n",
    "sub_tup = (4,5,6)\n",
    "st1 = set(tuple48)\n",
    "st2 = set(sub_tup)\n",
    "\n",
    "if st2.issubset(st1):\n",
    "    print('is Sub sequence')\n",
    "else:\n",
    "    print('is not Sub sequence')"
   ]
  },
  {
   "cell_type": "code",
   "execution_count": 62,
   "id": "146cb850-e9c6-4109-b1b9-13119d18346c",
   "metadata": {},
   "outputs": [
    {
     "name": "stdin",
     "output_type": "stream",
     "text": [
      "Enter number of values  5\n"
     ]
    },
    {
     "name": "stdout",
     "output_type": "stream",
     "text": [
      "(1, 0, 1, 0, 1)\n"
     ]
    }
   ],
   "source": [
    "# 50. Create a tuple of alternating 1s and 0s of length `n`.\n",
    "n = int(input('Enter number of values '))\n",
    "tup_lst49 = []\n",
    "for i in range(1,n+1):\n",
    "    if i%2 == 0:\n",
    "        tup_lst49.append(0)\n",
    "    else:\n",
    "        tup_lst49.append(1)\n",
    "tuple49 = tuple(tup_lst49)\n",
    "print(tuple49)"
   ]
  },
  {
   "cell_type": "markdown",
   "id": "e2c6d8f1-dc27-47e0-8647-e05c7c90b207",
   "metadata": {},
   "source": [
    "# Set Based Practice Problem :"
   ]
  },
  {
   "cell_type": "code",
   "execution_count": 5,
   "id": "0d60f59b-5284-4266-9820-ab1effd4c4b5",
   "metadata": {},
   "outputs": [
    {
     "data": {
      "text/plain": [
       "{1, 2, 3, 4, 5}"
      ]
     },
     "execution_count": 5,
     "metadata": {},
     "output_type": "execute_result"
    }
   ],
   "source": [
    "# 1. Create a set with integers from 1 to 5.\n",
    "set1 = set(range(1,6))\n",
    "set1"
   ]
  },
  {
   "cell_type": "code",
   "execution_count": 6,
   "id": "b8a159f5-28b6-4844-ac6e-cc3f925228b2",
   "metadata": {},
   "outputs": [
    {
     "data": {
      "text/plain": [
       "{1, 2, 3, 4, 5, 6}"
      ]
     },
     "execution_count": 6,
     "metadata": {},
     "output_type": "execute_result"
    }
   ],
   "source": [
    "# 2. Add an element to a set.\n",
    "set1.add(6)\n",
    "set1"
   ]
  },
  {
   "cell_type": "code",
   "execution_count": 7,
   "id": "1957132d-1172-454f-a07e-fbbb8f8896eb",
   "metadata": {},
   "outputs": [
    {
     "data": {
      "text/plain": [
       "{1, 2, 3, 4, 6}"
      ]
     },
     "execution_count": 7,
     "metadata": {},
     "output_type": "execute_result"
    }
   ],
   "source": [
    "# 3. Remove an element from a set.\n",
    "set1.remove(5)\n",
    "set1"
   ]
  },
  {
   "cell_type": "code",
   "execution_count": 9,
   "id": "a0762e96-b8b6-40db-b468-c6b2b45f963d",
   "metadata": {},
   "outputs": [
    {
     "name": "stdout",
     "output_type": "stream",
     "text": [
      "Element found in SET\n"
     ]
    }
   ],
   "source": [
    "# 4. Check if an element exists in a set.\n",
    "if 4 in set1:\n",
    "    print('Element found in SET')\n",
    "else:\n",
    "    print('Element not found in SET')"
   ]
  },
  {
   "cell_type": "code",
   "execution_count": 10,
   "id": "a1d5b2ee-ded5-483e-8cc7-f23c56d5e1b5",
   "metadata": {},
   "outputs": [
    {
     "name": "stdout",
     "output_type": "stream",
     "text": [
      "No of elements in set is :  5\n"
     ]
    }
   ],
   "source": [
    "# 5. Find the length of a set without using the `len()` function.\n",
    "cnt = 0\n",
    "for i in set1:\n",
    "    cnt += 1\n",
    "print('No of elements in set is : ' , cnt)"
   ]
  },
  {
   "cell_type": "code",
   "execution_count": 11,
   "id": "64473e8f-5b5d-4af2-bead-1d62237c0e8c",
   "metadata": {},
   "outputs": [
    {
     "name": "stdout",
     "output_type": "stream",
     "text": [
      "Set before clear :  {1, 2, 3, 4, 6}\n",
      "Set after clear :  set()\n"
     ]
    }
   ],
   "source": [
    "# 6. Clear all elements from a set.\n",
    "print('Set before clear : ' , set1)\n",
    "set1.clear()\n",
    "print('Set after clear : ' , set1)"
   ]
  },
  {
   "cell_type": "code",
   "execution_count": 18,
   "id": "d8b93e84-7ffa-4535-8d86-7271aea6beab",
   "metadata": {},
   "outputs": [
    {
     "data": {
      "text/plain": [
       "{2, 4, 6, 8, 10}"
      ]
     },
     "execution_count": 18,
     "metadata": {},
     "output_type": "execute_result"
    }
   ],
   "source": [
    "# 7. Create a set of even numbers from 1 to 10.\n",
    "\n",
    "set1 = set([i for i in range(1,11) if i%2 == 0])\n",
    "set1"
   ]
  },
  {
   "cell_type": "code",
   "execution_count": 17,
   "id": "7b59e072-7673-4dd4-99dc-7cc72396f8c1",
   "metadata": {},
   "outputs": [
    {
     "data": {
      "text/plain": [
       "{1, 3, 5, 7, 9}"
      ]
     },
     "execution_count": 17,
     "metadata": {},
     "output_type": "execute_result"
    }
   ],
   "source": [
    "# 8. Create a set of odd numbers from 1 to 10.\n",
    "set2 = set([i for i in range(1,11) if i%2 != 0])\n",
    "set2"
   ]
  },
  {
   "cell_type": "code",
   "execution_count": 24,
   "id": "963c0a1b-05c7-4bd4-8c6c-9a775080cb6f",
   "metadata": {},
   "outputs": [
    {
     "name": "stdout",
     "output_type": "stream",
     "text": [
      "Set1 : {2, 4, 6, 8, 10}\n",
      "Set2 : {1, 3, 5, 7, 9}\n",
      "Union of set1 and set2 is :  {1, 2, 3, 4, 5, 6, 7, 8, 9, 10}\n"
     ]
    }
   ],
   "source": [
    "# 9. Find the union of two sets.\n",
    "print('Set1 :' , set1)\n",
    "print('Set2 :' , set2)\n",
    "set3 = set1.union(set2)\n",
    "print('Union of set1 and set2 is : ' , set3)"
   ]
  },
  {
   "cell_type": "code",
   "execution_count": 35,
   "id": "f8e9b686-a5bf-4a07-b6a4-1a8cdbe6ee07",
   "metadata": {},
   "outputs": [
    {
     "name": "stdout",
     "output_type": "stream",
     "text": [
      "Set1 is :  {2, 4, 6, 8, 10}\n",
      "Set1 is :  {1, 2, 3, 4, 5, 6, 7, 8, 9, 10}\n",
      "Intersection of set1 and set3 are :  {2, 4, 6, 8, 10}\n"
     ]
    }
   ],
   "source": [
    "# 10. Find the intersection of two sets.\n",
    "print('Set1 is : ' , set1)\n",
    "print('Set1 is : ' , set3)\n",
    "print('Intersection of set1 and set3 are : ' , set1.intersection(set3))"
   ]
  },
  {
   "cell_type": "code",
   "execution_count": 36,
   "id": "80ebd196-bee6-40d3-9d2f-d391dd8a7912",
   "metadata": {},
   "outputs": [
    {
     "name": "stdout",
     "output_type": "stream",
     "text": [
      "Set1 is :  {2, 4, 6, 8, 10}\n",
      "Set1 is :  {1, 2, 3, 4, 5, 6, 7, 8, 9, 10}\n",
      "Difference between set1 and set3 are :  {1, 3, 5, 7, 9}\n"
     ]
    }
   ],
   "source": [
    "# 11. Find the difference between two sets.\n",
    "print('Set1 is : ' , set1)\n",
    "print('Set1 is : ' , set3)\n",
    "print('Difference between set1 and set3 are : ' , set3.difference(set1))"
   ]
  },
  {
   "cell_type": "code",
   "execution_count": 37,
   "id": "87f59385-4c39-45bc-85c1-6060ce366d66",
   "metadata": {},
   "outputs": [
    {
     "name": "stdout",
     "output_type": "stream",
     "text": [
      "Set1 is :  {2, 4, 6, 8, 10}\n",
      "Set1 is :  {1, 2, 3, 4, 5, 6, 7, 8, 9, 10}\n",
      "Checking set1 is subset if set3 or not? :  True\n"
     ]
    }
   ],
   "source": [
    "# 12. Check if a set is a subset of another set.\n",
    "print('Set1 is : ' , set1)\n",
    "print('Set1 is : ' , set3)\n",
    "print('Checking set1 is subset if set3 or not? : ' , set1.issubset(set3))"
   ]
  },
  {
   "cell_type": "code",
   "execution_count": 38,
   "id": "1f93b009-2cae-457b-b192-f60dde730c49",
   "metadata": {},
   "outputs": [
    {
     "name": "stdout",
     "output_type": "stream",
     "text": [
      "Set1 is :  {2, 4, 6, 8, 10}\n",
      "Set1 is :  {1, 2, 3, 4, 5, 6, 7, 8, 9, 10}\n",
      "Checking set1 is superset of set3 or not? :  False\n",
      "Checking set3 is superset of set1 or not? :  True\n"
     ]
    }
   ],
   "source": [
    "# 13. Check if a set is a superset of another set.\\\n",
    "print('Set1 is : ' , set1)\n",
    "print('Set1 is : ' , set3)\n",
    "print('Checking set1 is superset of set3 or not? : ' , set1.issuperset(set3))\n",
    "print('Checking set3 is superset of set1 or not? : ' , set3.issuperset(set1))"
   ]
  },
  {
   "cell_type": "code",
   "execution_count": 41,
   "id": "18d8f3f7-1a49-4e59-86c8-aac22acd6240",
   "metadata": {},
   "outputs": [
    {
     "data": {
      "text/plain": [
       "{1, 2, 3, 4, 5, 6}"
      ]
     },
     "execution_count": 41,
     "metadata": {},
     "output_type": "execute_result"
    }
   ],
   "source": [
    "# 14. Create a set from a list.\n",
    "set4 = set([1,2,3,4,5,5,6,6,3,2,1])\n",
    "set4"
   ]
  },
  {
   "cell_type": "code",
   "execution_count": 42,
   "id": "07b2d45d-0547-4718-9288-0c43214cacec",
   "metadata": {},
   "outputs": [
    {
     "data": {
      "text/plain": [
       "[1, 2, 3, 4, 5, 6]"
      ]
     },
     "execution_count": 42,
     "metadata": {},
     "output_type": "execute_result"
    }
   ],
   "source": [
    "# 15. Convert a set to a list.\n",
    "cvtlst = list(set4)\n",
    "cvtlst"
   ]
  },
  {
   "cell_type": "code",
   "execution_count": 43,
   "id": "c72d87be-13f5-46fe-bf56-256e20fed7ff",
   "metadata": {},
   "outputs": [
    {
     "data": {
      "text/plain": [
       "1"
      ]
     },
     "execution_count": 43,
     "metadata": {},
     "output_type": "execute_result"
    }
   ],
   "source": [
    "# 16. Remove a random element from a set.\n",
    "set4.pop()"
   ]
  },
  {
   "cell_type": "code",
   "execution_count": 46,
   "id": "aa020f71-d4d7-4b9a-b1d5-5c4de3f293e7",
   "metadata": {},
   "outputs": [
    {
     "data": {
      "text/plain": [
       "{4, 5, 6}"
      ]
     },
     "execution_count": 46,
     "metadata": {},
     "output_type": "execute_result"
    }
   ],
   "source": [
    "# 17. Pop an element from a set.\n",
    "set4.pop()\n",
    "set4"
   ]
  },
  {
   "cell_type": "code",
   "execution_count": 52,
   "id": "7a7422ab-16d4-41c6-b666-cfd8b3c53cab",
   "metadata": {},
   "outputs": [
    {
     "name": "stdout",
     "output_type": "stream",
     "text": [
      "Set1 is :  {2, 4, 6, 8, 10}\n",
      "Set2 is :  {1, 3, 5, 7, 9}\n",
      "There are no common elements in two sets\n"
     ]
    }
   ],
   "source": [
    "# 18. Check if two sets have no elements in common.\n",
    "print('Set1 is : ' , set1)\n",
    "print('Set2 is : ' , set2)\n",
    "if not set1.intersection(set2):\n",
    "    print('There are no common elements in two sets')"
   ]
  },
  {
   "cell_type": "code",
   "execution_count": 58,
   "id": "cfdf03c0-5549-4422-bc38-79dfbddc2946",
   "metadata": {},
   "outputs": [
    {
     "data": {
      "text/plain": [
       "{1, 2, 3, 4, 5, 7, 8, 9, 10, 11}"
      ]
     },
     "execution_count": 58,
     "metadata": {},
     "output_type": "execute_result"
    }
   ],
   "source": [
    "# 19. Find the symmetric difference between two sets.\n",
    "# This symmetric difference is ALL elemnts from SET1 and SET2 but but not common elements\n",
    "set4 = {1,2,3,4,5,6}\n",
    "set5 = {6,7,8,9,10,11}\n",
    "# element 6 is common in both the sets so that it will not pick\n",
    "set4.symmetric_difference(set5)"
   ]
  },
  {
   "cell_type": "code",
   "execution_count": 60,
   "id": "def0ac73-2132-4e2c-8aab-6a5f82eabadb",
   "metadata": {},
   "outputs": [
    {
     "name": "stdout",
     "output_type": "stream",
     "text": [
      "Set6 is :  {1, 2, 4, 5, 6, 7, 8, 9, 10}\n"
     ]
    }
   ],
   "source": [
    "# 20. Update a set with elements from another set.\n",
    "set6 = {1,2,4,5,6,7,8}\n",
    "set7 = {9,10}\n",
    "set6.update(set7)\n",
    "print('Set6 is : ', set6)"
   ]
  },
  {
   "cell_type": "code",
   "execution_count": 69,
   "id": "5fd144dd-b709-4327-9708-e4ff7260da05",
   "metadata": {},
   "outputs": [
    {
     "name": "stdout",
     "output_type": "stream",
     "text": [
      "{2, 3, 5, 7, 11, 13, 17, 19, 23, 29, 31, 37, 41, 43, 47, 53, 59, 61, 67, 71, 73, 79, 83, 89, 97}\n"
     ]
    }
   ],
   "source": [
    "# 21. Create a set of the first 5 prime numbers.\n",
    "set8 = set()\n",
    "for n in range(2,101):\n",
    "    prime = True\n",
    "    for i in range(2,n):\n",
    "        if (n%i == 0):\n",
    "            prime = False\n",
    "    if prime:\n",
    "        set8.add(n)\n",
    "print(set8)"
   ]
  },
  {
   "cell_type": "code",
   "execution_count": 1,
   "id": "3d164ff5-ac51-4845-9881-9128d58217a5",
   "metadata": {},
   "outputs": [
    {
     "name": "stdout",
     "output_type": "stream",
     "text": [
      "Set 1 : {1, 2, 3, 4, 5}\n",
      "Set 2 : {1, 2, 3, 4, 5}\n",
      "The given 2 sets are qual\n",
      "Set 1 : {1, 2, 3, 4, 5, 6}\n",
      "Set 2 : {1, 2, 3, 4, 5}\n",
      "The given 2 sets are not qual\n"
     ]
    }
   ],
   "source": [
    "# 22. Check if two sets are identical.\n",
    "def Check_equal(s1,s2):\n",
    "    print('Set 1 :' , s1)\n",
    "    print('Set 2 :' , s2)\n",
    "    if s1 == s2:\n",
    "        print('The given 2 sets are qual')\n",
    "    else:\n",
    "        print('The given 2 sets are not qual')\n",
    "\n",
    "set9  = {1,2,3,4,5}\n",
    "set10 = {1,2,3,4,5}\n",
    "set11 = {1,2,3,4,5,6}\n",
    "Check_equal(set9,set10)\n",
    "Check_equal(set11,set10)"
   ]
  },
  {
   "cell_type": "code",
   "execution_count": 2,
   "id": "afe94447-bff0-4f6c-8afe-087de0da4d13",
   "metadata": {},
   "outputs": [
    {
     "name": "stdout",
     "output_type": "stream",
     "text": [
      "frozenset({1, 2, 3, 4, 5, 6, 7})\n"
     ]
    }
   ],
   "source": [
    "# 23. Create a frozen set.\n",
    "# set can't be editable because we create set by using frozenset\n",
    "frozenset1 = frozenset([1,2,3,4,5,6,7])\n",
    "print(frozenset1)"
   ]
  },
  {
   "cell_type": "code",
   "execution_count": 4,
   "id": "5c1b67c5-f1f0-4c79-8c69-945db0e92b9d",
   "metadata": {},
   "outputs": [
    {
     "name": "stdout",
     "output_type": "stream",
     "text": [
      "True\n",
      "False\n"
     ]
    }
   ],
   "source": [
    "# 24. Check if a set is disjoint with another set.\n",
    "# If two sets are different then it will return True, If it has common element then it will return as False\n",
    "set12 = {'Apple','pomog','banana'}\n",
    "set13 = {'Grapes','Sapota','CustApple'}\n",
    "set14 = {'Grapes','pomog','CustApple'}\n",
    "print(set12.isdisjoint(set13))\n",
    "print(set12.isdisjoint(set14))"
   ]
  },
  {
   "cell_type": "code",
   "execution_count": 5,
   "id": "db577a35-7b8f-42d8-bd95-7dcc36ccab90",
   "metadata": {},
   "outputs": [
    {
     "name": "stdout",
     "output_type": "stream",
     "text": [
      "Set of squares of numbers : {1, 4, 9, 16, 25}\n"
     ]
    }
   ],
   "source": [
    "# 25. Create a set of squares of numbers from 1 to 5.\n",
    "square_set = set([x*x for x in range(1,6)])\n",
    "print('Set of squares of numbers :' , square_set)"
   ]
  },
  {
   "cell_type": "code",
   "execution_count": 9,
   "id": "95b17dac-c3f4-44bb-957f-23682e5d5e17",
   "metadata": {},
   "outputs": [
    {
     "data": {
      "text/plain": [
       "{2, 4, 6, 8, 10}"
      ]
     },
     "execution_count": 9,
     "metadata": {},
     "output_type": "execute_result"
    }
   ],
   "source": [
    "# 26. Filter out all even numbers from a set.\n",
    "set15 = {1,2,3,4,5,6,7,8,9,10}\n",
    "set15 = set([x for x in range(1,11) if x%2 == 0])\n",
    "set15"
   ]
  },
  {
   "cell_type": "code",
   "execution_count": 10,
   "id": "b46e2b3d-5ad1-4c14-a6e0-b56f88c3ac38",
   "metadata": {},
   "outputs": [
    {
     "data": {
      "text/plain": [
       "{2, 4, 6, 8, 10, 12, 14, 16, 18, 20}"
      ]
     },
     "execution_count": 10,
     "metadata": {},
     "output_type": "execute_result"
    }
   ],
   "source": [
    "# 27. Multiply all elements in a set by 2.\n",
    "set16 = set([x*2 for x in range(1,11)])\n",
    "set16"
   ]
  },
  {
   "cell_type": "code",
   "execution_count": 7,
   "id": "9fb3768c-d91c-43f1-acd3-f46e5e8863a0",
   "metadata": {},
   "outputs": [
    {
     "data": {
      "text/plain": [
       "{0.17858525582776774,\n",
       " 0.3003316654756365,\n",
       " 0.3537423397033358,\n",
       " 0.4623785792665591,\n",
       " 0.4805187841217934,\n",
       " 0.6745920554554018,\n",
       " 0.7177107346756599,\n",
       " 0.7272401816025044,\n",
       " 0.8302485234329183,\n",
       " 0.9396854968154741}"
      ]
     },
     "execution_count": 7,
     "metadata": {},
     "output_type": "execute_result"
    }
   ],
   "source": [
    "# 28. Create a set of random numbers.\n",
    "import random\n",
    "set17 = set()\n",
    "for i in range(1,11):\n",
    "    x = random.random()\n",
    "    set17.add(x)\n",
    "set17"
   ]
  },
  {
   "cell_type": "code",
   "execution_count": 10,
   "id": "45ea015d-2731-4832-9125-af2a07153868",
   "metadata": {},
   "outputs": [
    {
     "name": "stdout",
     "output_type": "stream",
     "text": [
      "Set is Not empty\n"
     ]
    }
   ],
   "source": [
    "# 29. Check if a set is empty.\n",
    "if set17 == set():\n",
    "    print('Set is Empty')\n",
    "else:\n",
    "    print('Set is Not empty')\n",
    "    "
   ]
  },
  {
   "cell_type": "code",
   "execution_count": 12,
   "id": "167daf8a-5774-4cf6-8131-e764229c9fa3",
   "metadata": {},
   "outputs": [
    {
     "data": {
      "text/plain": [
       "{frozenset({3, 4}), frozenset({1, 2})}"
      ]
     },
     "execution_count": 12,
     "metadata": {},
     "output_type": "execute_result"
    }
   ],
   "source": [
    "# 30. Create a nested set (hint: use frozenset).\n",
    "nested_set = set([frozenset([1,2]), frozenset([3,4])])\n",
    "nested_set"
   ]
  },
  {
   "cell_type": "code",
   "execution_count": 16,
   "id": "0ed9499f-f0cf-4488-b68f-0462035dec94",
   "metadata": {},
   "outputs": [
    {
     "data": {
      "text/plain": [
       "{1, 2, 3, 5, 6, 7, 8}"
      ]
     },
     "execution_count": 16,
     "metadata": {},
     "output_type": "execute_result"
    }
   ],
   "source": [
    "# 31. Remove an element from a set using the discard method.\n",
    "set18 = set([1,2,3,4,5,6,7,8])\n",
    "set18.discard(4)\n",
    "set18"
   ]
  },
  {
   "cell_type": "code",
   "execution_count": 17,
   "id": "5a5c61c6-d133-4b68-925a-32abcb74858a",
   "metadata": {},
   "outputs": [
    {
     "name": "stdout",
     "output_type": "stream",
     "text": [
      "Both sets are equal\n",
      "Both sets are not equal\n"
     ]
    }
   ],
   "source": [
    "# 32. Compare two sets.\n",
    "set19 = {1,2,3,4,5}\n",
    "set20 = {1,2,3,4,5}\n",
    "set21 = {2,3,4}\n",
    "\n",
    "if set19 == set20:\n",
    "    print('Both sets are equal')\n",
    "\n",
    "if set20 == set21:\n",
    "    print('Both sets are equal')\n",
    "else:\n",
    "    print('Both sets are not equal')"
   ]
  },
  {
   "cell_type": "code",
   "execution_count": 19,
   "id": "e4a41e5f-be6a-4b28-8bd7-eaa1d800cbad",
   "metadata": {},
   "outputs": [
    {
     "data": {
      "text/plain": [
       "{'a', 'd', 'e', 'i', 'k', 'm', 'r', 'u'}"
      ]
     },
     "execution_count": 19,
     "metadata": {},
     "output_type": "execute_result"
    }
   ],
   "source": [
    "# 33. Create a set from a string.\n",
    "strs = 'reddikumar'\n",
    "set22 = set(strs)\n",
    "set22"
   ]
  },
  {
   "cell_type": "code",
   "execution_count": 20,
   "id": "c19b4b80-94ac-416b-808f-dd0743ae60c8",
   "metadata": {},
   "outputs": [
    {
     "data": {
      "text/plain": [
       "{22, 23, 45, 55}"
      ]
     },
     "execution_count": 20,
     "metadata": {},
     "output_type": "execute_result"
    }
   ],
   "source": [
    "# 34. Convert a set of strings to a set of integers.\n",
    "set23 = {'22','23','45','55'}\n",
    "set24 = set([int(x) for x in set23])\n",
    "set24"
   ]
  },
  {
   "cell_type": "code",
   "execution_count": 21,
   "id": "9ad6099d-3eb6-4b3c-abf4-05448df37acb",
   "metadata": {},
   "outputs": [
    {
     "data": {
      "text/plain": [
       "{'22', '23', '45', '55'}"
      ]
     },
     "execution_count": 21,
     "metadata": {},
     "output_type": "execute_result"
    }
   ],
   "source": [
    "# 35. Convert a set of integers to a set of strings.\n",
    "set25 = set([str(x) for x in set24])\n",
    "set25"
   ]
  },
  {
   "cell_type": "code",
   "execution_count": 23,
   "id": "b6fceeb3-0343-4349-9404-262c826e830d",
   "metadata": {},
   "outputs": [
    {
     "name": "stdout",
     "output_type": "stream",
     "text": [
      "Type of tps :  <class 'tuple'>\n",
      "Type of set26 :  <class 'set'>  :  {1, 2, 3, 4, 5, 6}\n"
     ]
    }
   ],
   "source": [
    "# 36. Create a set from a tuple.\n",
    "tps = (1,2,3,4,5,6)\n",
    "print('Type of tps : ' , type(tps))\n",
    "set26 = set(tps)\n",
    "print('Type of set26 : ' , type(set26) , ' : ' , set26)"
   ]
  },
  {
   "cell_type": "code",
   "execution_count": 25,
   "id": "23939889-33ed-4105-86c0-abad80c7370e",
   "metadata": {},
   "outputs": [
    {
     "name": "stdout",
     "output_type": "stream",
     "text": [
      "Type of set26 :  <class 'set'>\n",
      "Type of cvt_tuple :  <class 'tuple'>  :  (1, 2, 3, 4, 5, 6)\n"
     ]
    }
   ],
   "source": [
    "# 37. Convert a set to a tuple.\n",
    "print('Type of set26 : ' , type(set26))\n",
    "cvt_tuple = tuple(set26)\n",
    "print('Type of cvt_tuple : ' , type(cvt_tuple) , ' : ' , cvt_tuple)"
   ]
  },
  {
   "cell_type": "code",
   "execution_count": 26,
   "id": "ca19416a-e2be-44f3-8d59-dd2c184a6cbb",
   "metadata": {},
   "outputs": [
    {
     "data": {
      "text/plain": [
       "6"
      ]
     },
     "execution_count": 26,
     "metadata": {},
     "output_type": "execute_result"
    }
   ],
   "source": [
    "# 38. Find the maximum value in a set.\n",
    "max(set26)"
   ]
  },
  {
   "cell_type": "code",
   "execution_count": 27,
   "id": "9eaf4eea-44c5-4678-b300-f9e3d13b51b7",
   "metadata": {},
   "outputs": [
    {
     "data": {
      "text/plain": [
       "1"
      ]
     },
     "execution_count": 27,
     "metadata": {},
     "output_type": "execute_result"
    }
   ],
   "source": [
    "# 39. Find the minimum value in a set.\n",
    "min(set26)"
   ]
  },
  {
   "cell_type": "code",
   "execution_count": 31,
   "id": "f4497837-7bb4-4195-98b2-be8cddcb06a9",
   "metadata": {},
   "outputs": [
    {
     "name": "stdin",
     "output_type": "stream",
     "text": [
      "Please enter complete set values at time with comma separated : 1,2,3,4,5\n"
     ]
    },
    {
     "name": "stdout",
     "output_type": "stream",
     "text": [
      "Type of set27 :  <class 'set'>\n"
     ]
    }
   ],
   "source": [
    "#40. Create a set from user input.\n",
    "in_set = input('Please enter complete set values at time with comma separated :')\n",
    "set27 = set(in_set.split(','))\n",
    "set27\n",
    "print('Type of set27 : ' , type(set27))"
   ]
  },
  {
   "cell_type": "code",
   "execution_count": 33,
   "id": "cef1bc0c-e556-4397-90ae-eb036a7b0e40",
   "metadata": {},
   "outputs": [
    {
     "name": "stdout",
     "output_type": "stream",
     "text": [
      "Intersection of two sets is not empty\n"
     ]
    }
   ],
   "source": [
    "# 41. Check if the intersection of two sets is empty.\n",
    "set28 = {1,2,3,4,5,6,7}\n",
    "set29 = {6,7,8,9,10,11}\n",
    "if len(set28.intersection(set29)) == 0:\n",
    "    print('Intersection of two sets is empty')\n",
    "else:\n",
    "    print('Intersection of two sets is not empty')"
   ]
  },
  {
   "cell_type": "code",
   "execution_count": 38,
   "id": "afbcb929-b2a0-46b8-992b-1e1da36db389",
   "metadata": {},
   "outputs": [
    {
     "name": "stdout",
     "output_type": "stream",
     "text": [
      "{0, 1, 2, 3, 34, 5, 8, 13, 21, 55}\n"
     ]
    }
   ],
   "source": [
    "# 42. Create a set of the first 5 Fibonacci numbers.\n",
    "fablist = [0]\n",
    "set_fib = set([0,1])\n",
    "first = 0\n",
    "second = 1\n",
    "\n",
    "cnt = 1\n",
    "\n",
    "while cnt < 10:\n",
    "    fiba = first + second\n",
    "    set_fib.add(fiba)\n",
    "    first = second\n",
    "    second = fiba\n",
    "    cnt += 1\n",
    "print(set_fib)"
   ]
  },
  {
   "cell_type": "code",
   "execution_count": 39,
   "id": "621681f1-10ec-4ae1-b2fc-f98492f7fa08",
   "metadata": {},
   "outputs": [
    {
     "name": "stdout",
     "output_type": "stream",
     "text": [
      "[1, 2, 3, 4, 2, 3, 4, 5, 2, 5, 6, 1, 3]\n",
      "Duplicates are removed from list :  [1, 2, 3, 4, 5, 6]\n"
     ]
    }
   ],
   "source": [
    "# 43. Remove duplicates from a list using sets.\n",
    "set_lst_old = [1,2,3,4,2,3,4,5,2,5,6,1,3]\n",
    "# Now we have duplicates in list \n",
    "print(set_lst_old)\n",
    "set_from_lst = set(set_lst_old)\n",
    "set_lst_new = list(set_from_lst)\n",
    "print('Duplicates are removed from list : ' , set_lst_new)"
   ]
  },
  {
   "cell_type": "code",
   "execution_count": 42,
   "id": "68f8c4f6-16b8-4d38-8e02-3b571867ed59",
   "metadata": {},
   "outputs": [
    {
     "name": "stdout",
     "output_type": "stream",
     "text": [
      "Two sets are equal\n"
     ]
    }
   ],
   "source": [
    "# 44. Check if two sets have the same elements, regardless of their count.\n",
    "set30 = {1,2,3,4,5}\n",
    "set31 = {4,5,1,3,2}\n",
    "if set30 == set31:\n",
    "    print('Two sets are equal')\n",
    "else:\n",
    "    print('Two sets are not equal')"
   ]
  },
  {
   "cell_type": "code",
   "execution_count": 43,
   "id": "0c7fd8ae-374b-4e0f-97aa-713e89909d3b",
   "metadata": {},
   "outputs": [
    {
     "data": {
      "text/plain": [
       "{2, 4, 8, 16, 32, 64, 128, 256, 512, 1024}"
      ]
     },
     "execution_count": 43,
     "metadata": {},
     "output_type": "execute_result"
    }
   ],
   "source": [
    "# 45. Create a set of the first `n` powers of 2.\n",
    "set32 = set([2**i for i in range(1,11)])\n",
    "set32"
   ]
  },
  {
   "cell_type": "code",
   "execution_count": 3,
   "id": "f4d33336-4607-4dcc-b9df-dbba9f274602",
   "metadata": {},
   "outputs": [
    {
     "name": "stdout",
     "output_type": "stream",
     "text": [
      "{5, 6, 7}\n"
     ]
    }
   ],
   "source": [
    "# 46. Find the common elements between a set and a list.\n",
    "# convert list to set and check \n",
    "set33 = {1,2,3,4,5,6,7}\n",
    "listn = [5,6,7,8,9,10,11]\n",
    "diff1 = set33.intersection(set(listn))\n",
    "print(diff1)"
   ]
  },
  {
   "cell_type": "code",
   "execution_count": 4,
   "id": "396ecd99-e496-4986-bbd7-4834f84a4be8",
   "metadata": {},
   "outputs": [
    {
     "name": "stdin",
     "output_type": "stream",
     "text": [
      "Enter how many Triangular Number you want : 7\n"
     ]
    },
    {
     "name": "stdout",
     "output_type": "stream",
     "text": [
      "{0, 1, 3, 6, 10, 15, 21}\n"
     ]
    }
   ],
   "source": [
    "# 47. Create a set of the first `n` triangular numbers.\n",
    "in_num = int(input('Enter how many Triangular Number you want :'))\n",
    "tri_num = set()\n",
    "for i in range(0,in_num):\n",
    "    tnum = i * (i+1) / 2\n",
    "    tri_num.add(int(tnum))\n",
    "print(tri_num)"
   ]
  },
  {
   "cell_type": "code",
   "execution_count": 5,
   "id": "93d146b9-c0a1-4fb5-b3d6-18561b4cd866",
   "metadata": {},
   "outputs": [],
   "source": [
    "# 48. Check if a set contains another set as a subset.\n",
    "set34 = {1,2,3,4,5,6,7}\n",
    "set35 = {3,4,5}\n"
   ]
  },
  {
   "cell_type": "code",
   "execution_count": 6,
   "id": "6b0875b4-b955-4e4e-9372-3a13f24bd140",
   "metadata": {},
   "outputs": [
    {
     "name": "stdin",
     "output_type": "stream",
     "text": [
      "Enter number of values  5\n"
     ]
    },
    {
     "name": "stdout",
     "output_type": "stream",
     "text": [
      "{0, 1}\n"
     ]
    }
   ],
   "source": [
    "# 49. Create a set of alternating 1s and 0s of length `n`.\n",
    "n = int(input('Enter number of values '))\n",
    "set36 = set()\n",
    "for i in range(1,n+1):\n",
    "    if i%2 == 0:\n",
    "        set36.add(0)\n",
    "    else:\n",
    "        set36.add(1)\n",
    "print(set36)"
   ]
  },
  {
   "cell_type": "code",
   "execution_count": 9,
   "id": "119d122d-5af8-40c7-b73c-21cad82b1f82",
   "metadata": {},
   "outputs": [
    {
     "name": "stdout",
     "output_type": "stream",
     "text": [
      "{1, 2, 3, 4, 5, 6, 7, 8, 9, 10}\n"
     ]
    }
   ],
   "source": [
    "# 50. Merge multiple sets into one.\n",
    "set37 = {1,2,3,4,5}\n",
    "set38 = {6,7,8,9,10}\n",
    "set39 = set37 | set38\n",
    "print(set39)"
   ]
  },
  {
   "cell_type": "code",
   "execution_count": null,
   "id": "97edca97-bc85-4530-beca-38eebaca5398",
   "metadata": {},
   "outputs": [],
   "source": []
  }
 ],
 "metadata": {
  "kernelspec": {
   "display_name": "Python 3 (ipykernel)",
   "language": "python",
   "name": "python3"
  },
  "language_info": {
   "codemirror_mode": {
    "name": "ipython",
    "version": 3
   },
   "file_extension": ".py",
   "mimetype": "text/x-python",
   "name": "python",
   "nbconvert_exporter": "python",
   "pygments_lexer": "ipython3",
   "version": "3.10.8"
  }
 },
 "nbformat": 4,
 "nbformat_minor": 5
}
