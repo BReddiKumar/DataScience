{
 "cells": [
  {
   "cell_type": "code",
   "execution_count": 24,
   "id": "a13df5df-6bf1-4fd3-90b4-d099f06eeae3",
   "metadata": {},
   "outputs": [],
   "source": [
    "# 1.Declare two variables, `x` and `y`, and assign them integer values. Swap the values of these variables without using any temporary variable."
   ]
  },
  {
   "cell_type": "code",
   "execution_count": 25,
   "id": "a798512c-717d-415d-b9ae-e8c5a8d0226c",
   "metadata": {},
   "outputs": [],
   "source": [
    "# Declare variables X and Y and I am assigning values 10 and 20 respectively\n",
    "X = 10\n",
    "Y = 20"
   ]
  },
  {
   "cell_type": "code",
   "execution_count": 26,
   "id": "08813b13-763f-4b7e-8a69-93d7c7fa8235",
   "metadata": {},
   "outputs": [
    {
     "name": "stdout",
     "output_type": "stream",
     "text": [
      "X value is : 10\n",
      "Y value is : 20\n"
     ]
    }
   ],
   "source": [
    "print('X value is :' , X)\n",
    "print('Y value is :' , Y)"
   ]
  },
  {
   "cell_type": "code",
   "execution_count": 27,
   "id": "6dd77e8a-9860-4818-99fb-b35c163503ab",
   "metadata": {},
   "outputs": [],
   "source": [
    "#Now I am swapping values \n",
    "X , Y = Y , X"
   ]
  },
  {
   "cell_type": "code",
   "execution_count": 28,
   "id": "702dc89d-d6e1-4b7c-b52e-106f41f15905",
   "metadata": {},
   "outputs": [
    {
     "name": "stdout",
     "output_type": "stream",
     "text": [
      "X value is : 20\n",
      "Y value is : 10\n"
     ]
    }
   ],
   "source": [
    "#Print X and Y values to check whether swapping has been done or not\n",
    "print('X value is :' , X)\n",
    "print('Y value is :' , Y)"
   ]
  },
  {
   "cell_type": "code",
   "execution_count": 29,
   "id": "c03b6ff9-24e8-49d1-8756-2b9cc97ff5d2",
   "metadata": {},
   "outputs": [],
   "source": [
    "#2. Create a program that calculates the area of a rectangle. Take the length and\n",
    "#width as inputs from the user and store them in variables. Calculate and\n",
    "#display the area."
   ]
  },
  {
   "cell_type": "code",
   "execution_count": 30,
   "id": "36c91895-b711-4f6f-a497-cbddf1bf0293",
   "metadata": {},
   "outputs": [
    {
     "name": "stdin",
     "output_type": "stream",
     "text": [
      "Enter length : 10\n"
     ]
    }
   ],
   "source": [
    "# Take length and width as input by using INPUT method\n",
    "length = int(input('Enter length :'))"
   ]
  },
  {
   "cell_type": "code",
   "execution_count": 31,
   "id": "ddefa7a9-f164-4b8a-844b-e7f9e0cbe34b",
   "metadata": {},
   "outputs": [
    {
     "data": {
      "text/plain": [
       "int"
      ]
     },
     "execution_count": 31,
     "metadata": {},
     "output_type": "execute_result"
    }
   ],
   "source": [
    "# Check type of variable\n",
    "type(length)"
   ]
  },
  {
   "cell_type": "code",
   "execution_count": 32,
   "id": "8e9f711b-16c2-40a5-99be-467dda555bd0",
   "metadata": {},
   "outputs": [
    {
     "name": "stdin",
     "output_type": "stream",
     "text": [
      "Enter width : 10\n"
     ]
    }
   ],
   "source": [
    "width = int(input('Enter width :'))"
   ]
  },
  {
   "cell_type": "code",
   "execution_count": 33,
   "id": "081bc593-d175-436f-80aa-60b70b8f8b3f",
   "metadata": {},
   "outputs": [
    {
     "data": {
      "text/plain": [
       "int"
      ]
     },
     "execution_count": 33,
     "metadata": {},
     "output_type": "execute_result"
    }
   ],
   "source": [
    "type(width)"
   ]
  },
  {
   "cell_type": "code",
   "execution_count": 34,
   "id": "da7fa93b-2274-471d-81b9-7d449831dd92",
   "metadata": {},
   "outputs": [],
   "source": [
    "# Formula for area of triangle using lengh and width is     Area = 1/2 * width * length\n",
    "area_of_trianle = 1/2 * length * width"
   ]
  },
  {
   "cell_type": "code",
   "execution_count": 35,
   "id": "657dcbe6-f7ce-497d-9bc0-c63112c0cadb",
   "metadata": {},
   "outputs": [
    {
     "name": "stdout",
     "output_type": "stream",
     "text": [
      "Area of triangle is : 50.0\n"
     ]
    }
   ],
   "source": [
    "print('Area of triangle is :' , area_of_trianle)"
   ]
  },
  {
   "cell_type": "code",
   "execution_count": 36,
   "id": "220fbb25-31eb-4c8c-83cd-08cba49e0861",
   "metadata": {},
   "outputs": [],
   "source": [
    "# 3. Write a Python program that converts temperatures from Celsius to\n",
    "# Fahrenheit. Take the temperature in Celsius as input, store it in a variable,\n",
    "# convert it to Fahrenheit, and display the result."
   ]
  },
  {
   "cell_type": "code",
   "execution_count": 37,
   "id": "465189fe-8830-4649-bb91-b61105253e84",
   "metadata": {},
   "outputs": [
    {
     "name": "stdin",
     "output_type": "stream",
     "text": [
      "Enter Celsius : 37\n"
     ]
    }
   ],
   "source": [
    "# Taking Celsius as input \n",
    "Celsius = float(input('Enter Celsius :'))"
   ]
  },
  {
   "cell_type": "code",
   "execution_count": 38,
   "id": "71de9b44-b407-4b10-b57a-bb6e6c115c34",
   "metadata": {},
   "outputs": [],
   "source": [
    "Fahrenheit = (1.8 * Celsius) + 32"
   ]
  },
  {
   "cell_type": "code",
   "execution_count": 39,
   "id": "2a72c64b-e120-49e5-90b4-f18208aaae0a",
   "metadata": {},
   "outputs": [
    {
     "name": "stdout",
     "output_type": "stream",
     "text": [
      "The Fahrenheit temparature : 98.60000000000001\n"
     ]
    }
   ],
   "source": [
    "print('The Fahrenheit temparature :' , Fahrenheit)"
   ]
  },
  {
   "cell_type": "code",
   "execution_count": 40,
   "id": "218ffa3c-b7b0-40cc-b66f-9a5cbd3b376f",
   "metadata": {},
   "outputs": [],
   "source": [
    "#TOPIC: String Based Questions"
   ]
  },
  {
   "cell_type": "code",
   "execution_count": 41,
   "id": "6b7d4bec-8f6b-4658-bd35-53e137ffe8e0",
   "metadata": {},
   "outputs": [
    {
     "name": "stdin",
     "output_type": "stream",
     "text": [
      "Enter one string Reddi Kumar\n"
     ]
    },
    {
     "name": "stdout",
     "output_type": "stream",
     "text": [
      "11\n"
     ]
    }
   ],
   "source": [
    "# 1. Write a Python program that takes a string as input and prints the length of the string.\n",
    "\n",
    "string = input('Enter one string')\n",
    "print(len(string))"
   ]
  },
  {
   "cell_type": "code",
   "execution_count": 42,
   "id": "29e0397a-a8aa-484c-b728-3671a66a4fe1",
   "metadata": {},
   "outputs": [
    {
     "name": "stdin",
     "output_type": "stream",
     "text": [
      "Enter a sentence Reddi Kumar Bandaru\n"
     ]
    }
   ],
   "source": [
    "# 2. Create a program that takes a sentence from the user and counts the number\n",
    "# of vowels (a, e, i, o, u) in the string.\n",
    "\n",
    "sentence = input('Enter a sentence')"
   ]
  },
  {
   "cell_type": "code",
   "execution_count": 43,
   "id": "beb13a6c-0a79-4f62-93e9-7434d514ac39",
   "metadata": {},
   "outputs": [
    {
     "name": "stdout",
     "output_type": "stream",
     "text": [
      "Reddi Kumar Bandaru\n"
     ]
    }
   ],
   "source": [
    "print(sentence)"
   ]
  },
  {
   "cell_type": "code",
   "execution_count": 44,
   "id": "b19b1c9a-2873-4b18-8e35-9a97350550a9",
   "metadata": {},
   "outputs": [],
   "source": [
    "vowels = 'aeiouAEIOU'"
   ]
  },
  {
   "cell_type": "code",
   "execution_count": 45,
   "id": "fa6756d6-85cf-4b0f-bfff-984cace4f371",
   "metadata": {},
   "outputs": [],
   "source": [
    "# select a values from variables VOWELS, \n",
    "count = sum(sentence.count(vowel) for vowel in vowels)"
   ]
  },
  {
   "cell_type": "code",
   "execution_count": 46,
   "id": "4ef22518-05de-4991-916d-4da7f046eb52",
   "metadata": {},
   "outputs": [
    {
     "name": "stdout",
     "output_type": "stream",
     "text": [
      "Toal vowels are : 7\n"
     ]
    }
   ],
   "source": [
    "print('Toal vowels are :' , count)"
   ]
  },
  {
   "cell_type": "code",
   "execution_count": 47,
   "id": "d8bcbd7d-3d6b-4be6-88a6-088e516c07e0",
   "metadata": {},
   "outputs": [
    {
     "name": "stdout",
     "output_type": "stream",
     "text": [
      "Reverse of the given string  Reddi Kumar is  ramuK iddeR\n"
     ]
    }
   ],
   "source": [
    "# 3. Given a string, reverse the order of characters using string slicing and print \n",
    "# the reversed string.\n",
    "reverse_string = 'Reddi Kumar'\n",
    "print('Reverse of the given string ' , reverse_string , 'is ' , reverse_string[::-1])"
   ]
  },
  {
   "cell_type": "code",
   "execution_count": 53,
   "id": "d028400c-0014-4ff9-80c2-708a7796089b",
   "metadata": {},
   "outputs": [
    {
     "name": "stdin",
     "output_type": "stream",
     "text": [
      "Enter a string to check palindrome or not : MADAM\n"
     ]
    }
   ],
   "source": [
    "# 4. Write a program that takes a string as input and checks if it is a palindrome\n",
    "# (reads the same forwards and backwards).\n",
    "\n",
    "first_string = input('Enter a string to check palindrome or not :')"
   ]
  },
  {
   "cell_type": "code",
   "execution_count": 54,
   "id": "eb4ceaa6-c461-4a7c-ad32-e53a91529936",
   "metadata": {},
   "outputs": [
    {
     "name": "stdout",
     "output_type": "stream",
     "text": [
      "MADAM\n"
     ]
    }
   ],
   "source": [
    "rever_string = first_string[::-1]\n",
    "print(rever_string)"
   ]
  },
  {
   "cell_type": "code",
   "execution_count": 50,
   "id": "9eb7981a-f009-41cb-ac08-38319425dcf7",
   "metadata": {
    "collapsed": true,
    "jupyter": {
     "outputs_hidden": true
    },
    "tags": []
   },
   "outputs": [
    {
     "name": "stdout",
     "output_type": "stream",
     "text": [
      "Given string  MADAM  is palindrome : MADAM\n"
     ]
    }
   ],
   "source": [
    "if first_string == rever_string:\n",
    "    print('Given string ' , first_string.upper() , ' is palindrome :' , rever_string)\n",
    "else:\n",
    "    print('Given string ' , first_string , ' is not palindrome')"
   ]
  },
  {
   "cell_type": "code",
   "execution_count": 51,
   "id": "9289a15d-f699-4671-8d6f-ff651ccf2b3c",
   "metadata": {},
   "outputs": [
    {
     "data": {
      "text/plain": [
       "['Reddi', 'Kumar', 'Bandaru']"
      ]
     },
     "execution_count": 51,
     "metadata": {},
     "output_type": "execute_result"
    }
   ],
   "source": [
    "# 5. Create a program that takes a string as input and removes all the spaces from\n",
    "# it. Print the modified string without spaces.\n",
    "\n",
    "st = 'Reddi Kumar Bandaru'\n",
    "st.split(sep=' ')"
   ]
  },
  {
   "cell_type": "code",
   "execution_count": 52,
   "id": "c2c7626d-6710-4b33-a68c-dd98c1a9f4fa",
   "metadata": {},
   "outputs": [
    {
     "name": "stdout",
     "output_type": "stream",
     "text": [
      "Spaces has been removed from string : ReddiKumarBandaru\n"
     ]
    }
   ],
   "source": [
    "#By using sting function REPLACE I have replaced spaces with non\n",
    "print('Spaces has been removed from string :' , st .replace(' ' , ''))"
   ]
  },
  {
   "cell_type": "code",
   "execution_count": null,
   "id": "081a6eb1-0d40-4820-9858-24702d6bf09e",
   "metadata": {},
   "outputs": [],
   "source": []
  }
 ],
 "metadata": {
  "kernelspec": {
   "display_name": "Python 3 (ipykernel)",
   "language": "python",
   "name": "python3"
  },
  "language_info": {
   "codemirror_mode": {
    "name": "ipython",
    "version": 3
   },
   "file_extension": ".py",
   "mimetype": "text/x-python",
   "name": "python",
   "nbconvert_exporter": "python",
   "pygments_lexer": "ipython3",
   "version": "3.10.8"
  }
 },
 "nbformat": 4,
 "nbformat_minor": 5
}
